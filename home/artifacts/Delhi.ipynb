{
 "cells": [
  {
   "cell_type": "code",
   "execution_count": 1,
   "id": "acfa4efb-64bc-4927-82db-6ca39c6e849f",
   "metadata": {},
   "outputs": [],
   "source": [
    "import numpy as np \n",
    "import pandas as pd"
   ]
  },
  {
   "cell_type": "code",
   "execution_count": 2,
   "id": "c0195762-aeec-4e31-95bb-b4bea5500302",
   "metadata": {},
   "outputs": [
    {
     "data": {
      "text/html": [
       "<div>\n",
       "<style scoped>\n",
       "    .dataframe tbody tr th:only-of-type {\n",
       "        vertical-align: middle;\n",
       "    }\n",
       "\n",
       "    .dataframe tbody tr th {\n",
       "        vertical-align: top;\n",
       "    }\n",
       "\n",
       "    .dataframe thead th {\n",
       "        text-align: right;\n",
       "    }\n",
       "</style>\n",
       "<table border=\"1\" class=\"dataframe\">\n",
       "  <thead>\n",
       "    <tr style=\"text-align: right;\">\n",
       "      <th></th>\n",
       "      <th>seller_type</th>\n",
       "      <th>bedroom</th>\n",
       "      <th>layout_type</th>\n",
       "      <th>property_type</th>\n",
       "      <th>locality</th>\n",
       "      <th>price</th>\n",
       "      <th>area</th>\n",
       "      <th>furnish_type</th>\n",
       "      <th>bathroom</th>\n",
       "    </tr>\n",
       "  </thead>\n",
       "  <tbody>\n",
       "    <tr>\n",
       "      <th>0</th>\n",
       "      <td>OWNER</td>\n",
       "      <td>1.0</td>\n",
       "      <td>RK</td>\n",
       "      <td>Studio Apartment</td>\n",
       "      <td>Vasant Kunj</td>\n",
       "      <td>9,999</td>\n",
       "      <td>500.0</td>\n",
       "      <td>Furnished</td>\n",
       "      <td>1 bathrooms</td>\n",
       "    </tr>\n",
       "    <tr>\n",
       "      <th>1</th>\n",
       "      <td>OWNER</td>\n",
       "      <td>1.0</td>\n",
       "      <td>BHK</td>\n",
       "      <td>Apartment</td>\n",
       "      <td>Sector-B Vasant Kunj</td>\n",
       "      <td>18,500</td>\n",
       "      <td>750.0</td>\n",
       "      <td>Semi-Furnished</td>\n",
       "      <td>1 bathrooms</td>\n",
       "    </tr>\n",
       "    <tr>\n",
       "      <th>2</th>\n",
       "      <td>OWNER</td>\n",
       "      <td>2.0</td>\n",
       "      <td>BHK</td>\n",
       "      <td>Apartment</td>\n",
       "      <td>Saket</td>\n",
       "      <td>13,000</td>\n",
       "      <td>1050.0</td>\n",
       "      <td>Semi-Furnished</td>\n",
       "      <td>2 bathrooms</td>\n",
       "    </tr>\n",
       "    <tr>\n",
       "      <th>3</th>\n",
       "      <td>OWNER</td>\n",
       "      <td>1.0</td>\n",
       "      <td>BHK</td>\n",
       "      <td>Apartment</td>\n",
       "      <td>New Ashok Nagar</td>\n",
       "      <td>10,000</td>\n",
       "      <td>550.0</td>\n",
       "      <td>Furnished</td>\n",
       "      <td>1 bathrooms</td>\n",
       "    </tr>\n",
       "    <tr>\n",
       "      <th>4</th>\n",
       "      <td>OWNER</td>\n",
       "      <td>2.0</td>\n",
       "      <td>BHK</td>\n",
       "      <td>Independent Floor</td>\n",
       "      <td>laxmi nagar</td>\n",
       "      <td>13,500</td>\n",
       "      <td>648.0</td>\n",
       "      <td>Furnished</td>\n",
       "      <td>1 bathrooms</td>\n",
       "    </tr>\n",
       "  </tbody>\n",
       "</table>\n",
       "</div>"
      ],
      "text/plain": [
       "  seller_type  bedroom layout_type      property_type              locality  \\\n",
       "0       OWNER      1.0          RK   Studio Apartment           Vasant Kunj   \n",
       "1       OWNER      1.0         BHK          Apartment  Sector-B Vasant Kunj   \n",
       "2       OWNER      2.0         BHK          Apartment                 Saket   \n",
       "3       OWNER      1.0         BHK          Apartment       New Ashok Nagar   \n",
       "4       OWNER      2.0         BHK  Independent Floor           laxmi nagar   \n",
       "\n",
       "    price    area    furnish_type     bathroom  \n",
       "0   9,999   500.0       Furnished  1 bathrooms  \n",
       "1  18,500   750.0  Semi-Furnished  1 bathrooms  \n",
       "2  13,000  1050.0  Semi-Furnished  2 bathrooms  \n",
       "3  10,000   550.0       Furnished  1 bathrooms  \n",
       "4  13,500   648.0       Furnished  1 bathrooms  "
      ]
     },
     "execution_count": 2,
     "metadata": {},
     "output_type": "execute_result"
    }
   ],
   "source": [
    "df=pd.read_csv('./datasets/Delhi_rent.csv')\n",
    "df.head()"
   ]
  },
  {
   "cell_type": "code",
   "execution_count": 3,
   "id": "dfac0647-684f-469f-a8aa-953fd2777128",
   "metadata": {},
   "outputs": [
    {
     "data": {
      "text/html": [
       "<div>\n",
       "<style scoped>\n",
       "    .dataframe tbody tr th:only-of-type {\n",
       "        vertical-align: middle;\n",
       "    }\n",
       "\n",
       "    .dataframe tbody tr th {\n",
       "        vertical-align: top;\n",
       "    }\n",
       "\n",
       "    .dataframe thead th {\n",
       "        text-align: right;\n",
       "    }\n",
       "</style>\n",
       "<table border=\"1\" class=\"dataframe\">\n",
       "  <thead>\n",
       "    <tr style=\"text-align: right;\">\n",
       "      <th></th>\n",
       "      <th>bedroom</th>\n",
       "      <th>property_type</th>\n",
       "      <th>locality</th>\n",
       "      <th>price</th>\n",
       "      <th>area</th>\n",
       "      <th>furnish_type</th>\n",
       "    </tr>\n",
       "  </thead>\n",
       "  <tbody>\n",
       "    <tr>\n",
       "      <th>0</th>\n",
       "      <td>1.0</td>\n",
       "      <td>Studio Apartment</td>\n",
       "      <td>Vasant Kunj</td>\n",
       "      <td>9,999</td>\n",
       "      <td>500.0</td>\n",
       "      <td>Furnished</td>\n",
       "    </tr>\n",
       "    <tr>\n",
       "      <th>1</th>\n",
       "      <td>1.0</td>\n",
       "      <td>Apartment</td>\n",
       "      <td>Sector-B Vasant Kunj</td>\n",
       "      <td>18,500</td>\n",
       "      <td>750.0</td>\n",
       "      <td>Semi-Furnished</td>\n",
       "    </tr>\n",
       "    <tr>\n",
       "      <th>2</th>\n",
       "      <td>2.0</td>\n",
       "      <td>Apartment</td>\n",
       "      <td>Saket</td>\n",
       "      <td>13,000</td>\n",
       "      <td>1050.0</td>\n",
       "      <td>Semi-Furnished</td>\n",
       "    </tr>\n",
       "    <tr>\n",
       "      <th>3</th>\n",
       "      <td>1.0</td>\n",
       "      <td>Apartment</td>\n",
       "      <td>New Ashok Nagar</td>\n",
       "      <td>10,000</td>\n",
       "      <td>550.0</td>\n",
       "      <td>Furnished</td>\n",
       "    </tr>\n",
       "    <tr>\n",
       "      <th>4</th>\n",
       "      <td>2.0</td>\n",
       "      <td>Independent Floor</td>\n",
       "      <td>laxmi nagar</td>\n",
       "      <td>13,500</td>\n",
       "      <td>648.0</td>\n",
       "      <td>Furnished</td>\n",
       "    </tr>\n",
       "  </tbody>\n",
       "</table>\n",
       "</div>"
      ],
      "text/plain": [
       "   bedroom      property_type              locality   price    area  \\\n",
       "0      1.0   Studio Apartment           Vasant Kunj   9,999   500.0   \n",
       "1      1.0          Apartment  Sector-B Vasant Kunj  18,500   750.0   \n",
       "2      2.0          Apartment                 Saket  13,000  1050.0   \n",
       "3      1.0          Apartment       New Ashok Nagar  10,000   550.0   \n",
       "4      2.0  Independent Floor           laxmi nagar  13,500   648.0   \n",
       "\n",
       "     furnish_type  \n",
       "0       Furnished  \n",
       "1  Semi-Furnished  \n",
       "2  Semi-Furnished  \n",
       "3       Furnished  \n",
       "4       Furnished  "
      ]
     },
     "execution_count": 3,
     "metadata": {},
     "output_type": "execute_result"
    }
   ],
   "source": [
    "df.drop(columns=['seller_type','layout_type','bathroom'],inplace=True)\n",
    "df.head()"
   ]
  },
  {
   "cell_type": "code",
   "execution_count": 4,
   "id": "4a2295c2-97c2-4a3a-b60d-ee1413a758ba",
   "metadata": {},
   "outputs": [
    {
     "data": {
      "text/plain": [
       "(33500, 6)"
      ]
     },
     "execution_count": 4,
     "metadata": {},
     "output_type": "execute_result"
    }
   ],
   "source": [
    "df.shape"
   ]
  },
  {
   "cell_type": "code",
   "execution_count": 5,
   "id": "1c0174b6-b232-448c-88a3-4bb56399b9e7",
   "metadata": {},
   "outputs": [
    {
     "data": {
      "text/plain": [
       "bedroom          500\n",
       "property_type    500\n",
       "locality         500\n",
       "price            500\n",
       "area             500\n",
       "furnish_type     500\n",
       "dtype: int64"
      ]
     },
     "execution_count": 5,
     "metadata": {},
     "output_type": "execute_result"
    }
   ],
   "source": [
    "df.isnull().sum()"
   ]
  },
  {
   "cell_type": "code",
   "execution_count": 6,
   "id": "730be567-3775-42d1-9bb0-97ba038016a1",
   "metadata": {},
   "outputs": [],
   "source": [
    "df['price'] = df['price'].str.replace(r'[^\\d.]+', '', regex=True)"
   ]
  },
  {
   "cell_type": "code",
   "execution_count": 7,
   "id": "44d8798b-5350-4cb0-ac83-d8d02352aa42",
   "metadata": {},
   "outputs": [],
   "source": [
    "df['price'] = pd.to_numeric(df['price'], errors='coerce')"
   ]
  },
  {
   "cell_type": "code",
   "execution_count": 8,
   "id": "cb02330c-263f-4f1f-9008-2ad4f2b3074e",
   "metadata": {},
   "outputs": [
    {
     "data": {
      "text/html": [
       "<div>\n",
       "<style scoped>\n",
       "    .dataframe tbody tr th:only-of-type {\n",
       "        vertical-align: middle;\n",
       "    }\n",
       "\n",
       "    .dataframe tbody tr th {\n",
       "        vertical-align: top;\n",
       "    }\n",
       "\n",
       "    .dataframe thead th {\n",
       "        text-align: right;\n",
       "    }\n",
       "</style>\n",
       "<table border=\"1\" class=\"dataframe\">\n",
       "  <thead>\n",
       "    <tr style=\"text-align: right;\">\n",
       "      <th></th>\n",
       "      <th>bedroom</th>\n",
       "      <th>property_type</th>\n",
       "      <th>locality</th>\n",
       "      <th>price</th>\n",
       "      <th>area</th>\n",
       "      <th>furnish_type</th>\n",
       "    </tr>\n",
       "  </thead>\n",
       "  <tbody>\n",
       "    <tr>\n",
       "      <th>0</th>\n",
       "      <td>1.0</td>\n",
       "      <td>Studio Apartment</td>\n",
       "      <td>Vasant Kunj</td>\n",
       "      <td>9999.0</td>\n",
       "      <td>500.0</td>\n",
       "      <td>Furnished</td>\n",
       "    </tr>\n",
       "    <tr>\n",
       "      <th>1</th>\n",
       "      <td>1.0</td>\n",
       "      <td>Apartment</td>\n",
       "      <td>Sector-B Vasant Kunj</td>\n",
       "      <td>18500.0</td>\n",
       "      <td>750.0</td>\n",
       "      <td>Semi-Furnished</td>\n",
       "    </tr>\n",
       "    <tr>\n",
       "      <th>2</th>\n",
       "      <td>2.0</td>\n",
       "      <td>Apartment</td>\n",
       "      <td>Saket</td>\n",
       "      <td>13000.0</td>\n",
       "      <td>1050.0</td>\n",
       "      <td>Semi-Furnished</td>\n",
       "    </tr>\n",
       "    <tr>\n",
       "      <th>3</th>\n",
       "      <td>1.0</td>\n",
       "      <td>Apartment</td>\n",
       "      <td>New Ashok Nagar</td>\n",
       "      <td>10000.0</td>\n",
       "      <td>550.0</td>\n",
       "      <td>Furnished</td>\n",
       "    </tr>\n",
       "    <tr>\n",
       "      <th>4</th>\n",
       "      <td>2.0</td>\n",
       "      <td>Independent Floor</td>\n",
       "      <td>laxmi nagar</td>\n",
       "      <td>13500.0</td>\n",
       "      <td>648.0</td>\n",
       "      <td>Furnished</td>\n",
       "    </tr>\n",
       "  </tbody>\n",
       "</table>\n",
       "</div>"
      ],
      "text/plain": [
       "   bedroom      property_type              locality    price    area  \\\n",
       "0      1.0   Studio Apartment           Vasant Kunj   9999.0   500.0   \n",
       "1      1.0          Apartment  Sector-B Vasant Kunj  18500.0   750.0   \n",
       "2      2.0          Apartment                 Saket  13000.0  1050.0   \n",
       "3      1.0          Apartment       New Ashok Nagar  10000.0   550.0   \n",
       "4      2.0  Independent Floor           laxmi nagar  13500.0   648.0   \n",
       "\n",
       "     furnish_type  \n",
       "0       Furnished  \n",
       "1  Semi-Furnished  \n",
       "2  Semi-Furnished  \n",
       "3       Furnished  \n",
       "4       Furnished  "
      ]
     },
     "execution_count": 8,
     "metadata": {},
     "output_type": "execute_result"
    }
   ],
   "source": [
    "df.head()"
   ]
  },
  {
   "cell_type": "code",
   "execution_count": 9,
   "id": "aca90c2b-87b3-4d52-baa2-01e64d821669",
   "metadata": {},
   "outputs": [
    {
     "name": "stdout",
     "output_type": "stream",
     "text": [
      "<class 'pandas.core.frame.DataFrame'>\n",
      "RangeIndex: 33500 entries, 0 to 33499\n",
      "Data columns (total 6 columns):\n",
      " #   Column         Non-Null Count  Dtype  \n",
      "---  ------         --------------  -----  \n",
      " 0   bedroom        33000 non-null  float64\n",
      " 1   property_type  33000 non-null  object \n",
      " 2   locality       33000 non-null  object \n",
      " 3   price          33000 non-null  float64\n",
      " 4   area           33000 non-null  float64\n",
      " 5   furnish_type   33000 non-null  object \n",
      "dtypes: float64(3), object(3)\n",
      "memory usage: 1.5+ MB\n"
     ]
    }
   ],
   "source": [
    "df.info()"
   ]
  },
  {
   "cell_type": "code",
   "execution_count": 10,
   "id": "a774766d-54c7-4ca3-a5c0-6d676e62137a",
   "metadata": {},
   "outputs": [],
   "source": [
    "df[\"house_price\"] = (df[\"price\"] * 12 * 100) / 3"
   ]
  },
  {
   "cell_type": "code",
   "execution_count": 11,
   "id": "c2999d19-56ba-4569-afbf-b0f5915e578c",
   "metadata": {},
   "outputs": [
    {
     "data": {
      "text/html": [
       "<div>\n",
       "<style scoped>\n",
       "    .dataframe tbody tr th:only-of-type {\n",
       "        vertical-align: middle;\n",
       "    }\n",
       "\n",
       "    .dataframe tbody tr th {\n",
       "        vertical-align: top;\n",
       "    }\n",
       "\n",
       "    .dataframe thead th {\n",
       "        text-align: right;\n",
       "    }\n",
       "</style>\n",
       "<table border=\"1\" class=\"dataframe\">\n",
       "  <thead>\n",
       "    <tr style=\"text-align: right;\">\n",
       "      <th></th>\n",
       "      <th>bedroom</th>\n",
       "      <th>property_type</th>\n",
       "      <th>locality</th>\n",
       "      <th>price</th>\n",
       "      <th>area</th>\n",
       "      <th>furnish_type</th>\n",
       "      <th>house_price</th>\n",
       "    </tr>\n",
       "  </thead>\n",
       "  <tbody>\n",
       "    <tr>\n",
       "      <th>0</th>\n",
       "      <td>1.0</td>\n",
       "      <td>Studio Apartment</td>\n",
       "      <td>Vasant Kunj</td>\n",
       "      <td>9999.0</td>\n",
       "      <td>500.0</td>\n",
       "      <td>Furnished</td>\n",
       "      <td>3999600.0</td>\n",
       "    </tr>\n",
       "    <tr>\n",
       "      <th>1</th>\n",
       "      <td>1.0</td>\n",
       "      <td>Apartment</td>\n",
       "      <td>Sector-B Vasant Kunj</td>\n",
       "      <td>18500.0</td>\n",
       "      <td>750.0</td>\n",
       "      <td>Semi-Furnished</td>\n",
       "      <td>7400000.0</td>\n",
       "    </tr>\n",
       "    <tr>\n",
       "      <th>2</th>\n",
       "      <td>2.0</td>\n",
       "      <td>Apartment</td>\n",
       "      <td>Saket</td>\n",
       "      <td>13000.0</td>\n",
       "      <td>1050.0</td>\n",
       "      <td>Semi-Furnished</td>\n",
       "      <td>5200000.0</td>\n",
       "    </tr>\n",
       "    <tr>\n",
       "      <th>3</th>\n",
       "      <td>1.0</td>\n",
       "      <td>Apartment</td>\n",
       "      <td>New Ashok Nagar</td>\n",
       "      <td>10000.0</td>\n",
       "      <td>550.0</td>\n",
       "      <td>Furnished</td>\n",
       "      <td>4000000.0</td>\n",
       "    </tr>\n",
       "    <tr>\n",
       "      <th>4</th>\n",
       "      <td>2.0</td>\n",
       "      <td>Independent Floor</td>\n",
       "      <td>laxmi nagar</td>\n",
       "      <td>13500.0</td>\n",
       "      <td>648.0</td>\n",
       "      <td>Furnished</td>\n",
       "      <td>5400000.0</td>\n",
       "    </tr>\n",
       "  </tbody>\n",
       "</table>\n",
       "</div>"
      ],
      "text/plain": [
       "   bedroom      property_type              locality    price    area  \\\n",
       "0      1.0   Studio Apartment           Vasant Kunj   9999.0   500.0   \n",
       "1      1.0          Apartment  Sector-B Vasant Kunj  18500.0   750.0   \n",
       "2      2.0          Apartment                 Saket  13000.0  1050.0   \n",
       "3      1.0          Apartment       New Ashok Nagar  10000.0   550.0   \n",
       "4      2.0  Independent Floor           laxmi nagar  13500.0   648.0   \n",
       "\n",
       "     furnish_type  house_price  \n",
       "0       Furnished    3999600.0  \n",
       "1  Semi-Furnished    7400000.0  \n",
       "2  Semi-Furnished    5200000.0  \n",
       "3       Furnished    4000000.0  \n",
       "4       Furnished    5400000.0  "
      ]
     },
     "execution_count": 11,
     "metadata": {},
     "output_type": "execute_result"
    }
   ],
   "source": [
    "df.head()"
   ]
  },
  {
   "cell_type": "code",
   "execution_count": 12,
   "id": "f12b92b1-6e94-45e8-be80-2b211a3469b7",
   "metadata": {},
   "outputs": [
    {
     "data": {
      "text/plain": [
       "bedroom\n",
       "3.0     10304\n",
       "2.0      8478\n",
       "1.0      7292\n",
       "4.0      5894\n",
       "5.0       828\n",
       "6.0        50\n",
       "10.0       46\n",
       "7.0        32\n",
       "8.0        30\n",
       "15.0       18\n",
       "9.0        17\n",
       "12.0        5\n",
       "14.0        4\n",
       "11.0        2\n",
       "Name: count, dtype: int64"
      ]
     },
     "execution_count": 12,
     "metadata": {},
     "output_type": "execute_result"
    }
   ],
   "source": [
    "df.bedroom.value_counts()"
   ]
  },
  {
   "cell_type": "code",
   "execution_count": 13,
   "id": "54e711a2-cb9f-4d68-ae0e-cdf930339921",
   "metadata": {},
   "outputs": [],
   "source": [
    "df = df[df['bedroom'] <= 5]"
   ]
  },
  {
   "cell_type": "code",
   "execution_count": 14,
   "id": "9c3d11da-3649-452f-99bd-4d496486cf7d",
   "metadata": {},
   "outputs": [
    {
     "data": {
      "text/plain": [
       "property_type\n",
       "Independent Floor    19131\n",
       "Apartment             8599\n",
       "Studio Apartment      1974\n",
       "Independent House     1732\n",
       "Villa                 1269\n",
       "Penthouse               91\n",
       "Name: count, dtype: int64"
      ]
     },
     "execution_count": 14,
     "metadata": {},
     "output_type": "execute_result"
    }
   ],
   "source": [
    "df.property_type.value_counts()"
   ]
  },
  {
   "cell_type": "code",
   "execution_count": 15,
   "id": "a4c24d65-8894-423d-a4ee-d7ab2854b342",
   "metadata": {},
   "outputs": [],
   "source": [
    "df[\"property_type\"] = df[\"property_type\"].replace(\"Studio Apartment\", \"Apartment\")\n",
    "df[\"property_type\"] = df[\"property_type\"].replace(\"Independent Floor\", \"Villa\")\n",
    "df[\"property_type\"] = df[\"property_type\"].replace(\"Penthouse\", \"Villa\")"
   ]
  },
  {
   "cell_type": "code",
   "execution_count": 16,
   "id": "5e067641-3b96-48b2-b312-92f95a99c33e",
   "metadata": {},
   "outputs": [
    {
     "data": {
      "text/html": [
       "<div>\n",
       "<style scoped>\n",
       "    .dataframe tbody tr th:only-of-type {\n",
       "        vertical-align: middle;\n",
       "    }\n",
       "\n",
       "    .dataframe tbody tr th {\n",
       "        vertical-align: top;\n",
       "    }\n",
       "\n",
       "    .dataframe thead th {\n",
       "        text-align: right;\n",
       "    }\n",
       "</style>\n",
       "<table border=\"1\" class=\"dataframe\">\n",
       "  <thead>\n",
       "    <tr style=\"text-align: right;\">\n",
       "      <th></th>\n",
       "      <th>bedroom</th>\n",
       "      <th>property_type</th>\n",
       "      <th>locality</th>\n",
       "      <th>price</th>\n",
       "      <th>area</th>\n",
       "      <th>furnish_type</th>\n",
       "      <th>house_price</th>\n",
       "    </tr>\n",
       "  </thead>\n",
       "  <tbody>\n",
       "    <tr>\n",
       "      <th>0</th>\n",
       "      <td>1.0</td>\n",
       "      <td>Apartment</td>\n",
       "      <td>Vasant Kunj</td>\n",
       "      <td>9999.0</td>\n",
       "      <td>500.0</td>\n",
       "      <td>Furnished</td>\n",
       "      <td>3999600.0</td>\n",
       "    </tr>\n",
       "    <tr>\n",
       "      <th>1</th>\n",
       "      <td>1.0</td>\n",
       "      <td>Apartment</td>\n",
       "      <td>Sector-B Vasant Kunj</td>\n",
       "      <td>18500.0</td>\n",
       "      <td>750.0</td>\n",
       "      <td>Semi-Furnished</td>\n",
       "      <td>7400000.0</td>\n",
       "    </tr>\n",
       "    <tr>\n",
       "      <th>2</th>\n",
       "      <td>2.0</td>\n",
       "      <td>Apartment</td>\n",
       "      <td>Saket</td>\n",
       "      <td>13000.0</td>\n",
       "      <td>1050.0</td>\n",
       "      <td>Semi-Furnished</td>\n",
       "      <td>5200000.0</td>\n",
       "    </tr>\n",
       "    <tr>\n",
       "      <th>3</th>\n",
       "      <td>1.0</td>\n",
       "      <td>Apartment</td>\n",
       "      <td>New Ashok Nagar</td>\n",
       "      <td>10000.0</td>\n",
       "      <td>550.0</td>\n",
       "      <td>Furnished</td>\n",
       "      <td>4000000.0</td>\n",
       "    </tr>\n",
       "    <tr>\n",
       "      <th>4</th>\n",
       "      <td>2.0</td>\n",
       "      <td>Villa</td>\n",
       "      <td>laxmi nagar</td>\n",
       "      <td>13500.0</td>\n",
       "      <td>648.0</td>\n",
       "      <td>Furnished</td>\n",
       "      <td>5400000.0</td>\n",
       "    </tr>\n",
       "  </tbody>\n",
       "</table>\n",
       "</div>"
      ],
      "text/plain": [
       "   bedroom property_type              locality    price    area  \\\n",
       "0      1.0     Apartment           Vasant Kunj   9999.0   500.0   \n",
       "1      1.0     Apartment  Sector-B Vasant Kunj  18500.0   750.0   \n",
       "2      2.0     Apartment                 Saket  13000.0  1050.0   \n",
       "3      1.0     Apartment       New Ashok Nagar  10000.0   550.0   \n",
       "4      2.0         Villa           laxmi nagar  13500.0   648.0   \n",
       "\n",
       "     furnish_type  house_price  \n",
       "0       Furnished    3999600.0  \n",
       "1  Semi-Furnished    7400000.0  \n",
       "2  Semi-Furnished    5200000.0  \n",
       "3       Furnished    4000000.0  \n",
       "4       Furnished    5400000.0  "
      ]
     },
     "execution_count": 16,
     "metadata": {},
     "output_type": "execute_result"
    }
   ],
   "source": [
    "df.head()"
   ]
  },
  {
   "cell_type": "code",
   "execution_count": 17,
   "id": "4aa7f0a9-7822-4b6b-82ee-5ffc4a9cf9c4",
   "metadata": {},
   "outputs": [
    {
     "data": {
      "text/plain": [
       "count     662.000000\n",
       "mean       49.540785\n",
       "std       147.588505\n",
       "min         1.000000\n",
       "25%         1.000000\n",
       "50%         4.000000\n",
       "75%        20.000000\n",
       "max      2164.000000\n",
       "Name: count, dtype: float64"
      ]
     },
     "execution_count": 17,
     "metadata": {},
     "output_type": "execute_result"
    }
   ],
   "source": [
    "df.locality.value_counts().describe()"
   ]
  },
  {
   "cell_type": "code",
   "execution_count": 18,
   "id": "231abce0-8420-4781-9933-a7898636ffd7",
   "metadata": {},
   "outputs": [],
   "source": [
    "locality_counts = df[\"locality\"].value_counts()\n",
    "df = df[df[\"locality\"].isin(locality_counts[locality_counts >=10].index)]"
   ]
  },
  {
   "cell_type": "code",
   "execution_count": 19,
   "id": "73fe1213-42b4-42c7-9586-dd913a2ae6fe",
   "metadata": {},
   "outputs": [
    {
     "data": {
      "text/plain": [
       "227"
      ]
     },
     "execution_count": 19,
     "metadata": {},
     "output_type": "execute_result"
    }
   ],
   "source": [
    "df.locality.nunique()"
   ]
  },
  {
   "cell_type": "code",
   "execution_count": 20,
   "id": "c7ab6151-1e6b-42d4-8a62-ced9560e81dc",
   "metadata": {},
   "outputs": [
    {
     "data": {
      "text/plain": [
       "(31557, 7)"
      ]
     },
     "execution_count": 20,
     "metadata": {},
     "output_type": "execute_result"
    }
   ],
   "source": [
    "df.shape"
   ]
  },
  {
   "cell_type": "code",
   "execution_count": 21,
   "id": "ec8fd0e2-fccb-415e-a756-54620963b56d",
   "metadata": {},
   "outputs": [
    {
     "data": {
      "text/plain": [
       "furnish_type\n",
       "Semi-Furnished    15735\n",
       "Unfurnished        9737\n",
       "Furnished          6085\n",
       "Name: count, dtype: int64"
      ]
     },
     "execution_count": 21,
     "metadata": {},
     "output_type": "execute_result"
    }
   ],
   "source": [
    "df.furnish_type.value_counts()"
   ]
  },
  {
   "cell_type": "code",
   "execution_count": 22,
   "id": "40c401b1-0c59-4333-9884-5f7d8e498d2a",
   "metadata": {},
   "outputs": [],
   "source": [
    "df[\"furnish_type\"] = df[\"furnish_type\"].replace(\"Semi-Furnished\", \"Furnished\")"
   ]
  },
  {
   "cell_type": "code",
   "execution_count": 23,
   "id": "3f28eecf-4895-4f65-b57d-84627d48c130",
   "metadata": {},
   "outputs": [],
   "source": [
    "import matplotlib.pyplot as plt\n",
    "import seaborn as sns"
   ]
  },
  {
   "cell_type": "code",
   "execution_count": 24,
   "id": "a15a40f7-6014-4c23-a573-12b60625e3d6",
   "metadata": {},
   "outputs": [
    {
     "data": {
      "text/plain": [
       "<Figure size 1200x800 with 0 Axes>"
      ]
     },
     "metadata": {},
     "output_type": "display_data"
    },
    {
     "data": {
      "image/png": "[encoded data removed]",
      "text/plain": [
       "<Figure size 600x400 with 1 Axes>"
      ]
     },
     "metadata": {},
     "output_type": "display_data"
    },
    {
     "data": {
      "image/png": "[encoded data removed]",
      "text/plain": [
       "<Figure size 600x400 with 1 Axes>"
      ]
     },
     "metadata": {},
     "output_type": "display_data"
    },
    {
     "data": {
      "image/png": "[encoded data removed]",
      "text/plain": [
       "<Figure size 600x400 with 1 Axes>"
      ]
     },
     "metadata": {},
     "output_type": "display_data"
    },
    {
     "data": {
      "image/png": "[encoded data removed]",
      "text/plain": [
       "<Figure size 600x400 with 1 Axes>"
      ]
     },
     "metadata": {},
     "output_type": "display_data"
    }
   ],
   "source": [
    "plt.figure(figsize=(12, 8))\n",
    "sns.set(style=\"whitegrid\")\n",
    "\n",
    "df_numeric = df.select_dtypes(include=['float64', 'int64'])  \n",
    "for column in df_numeric.columns:\n",
    "    plt.figure(figsize=(6, 4))\n",
    "    sns.boxplot(x=df[column])\n",
    "    plt.title(f'Boxplot for {column}')\n",
    "    plt.show()"
   ]
  },
  {
   "cell_type": "code",
   "execution_count": 25,
   "id": "9e1e0400-b32d-47b5-88a5-4e898903617e",
   "metadata": {},
   "outputs": [],
   "source": [
    "for column in df_numeric.columns:\n",
    "    Q1 = df[column].quantile(0.25)\n",
    "    Q3 = df[column].quantile(0.75)\n",
    "    IQR = Q3 - Q1\n",
    "\n",
    "    lower_bound = Q1 - 1.5 * IQR\n",
    "    upper_bound = Q3 + 1.5 * IQR\n",
    "\n",
    "    df = df[(df[column] >= lower_bound) & (df[column] <= upper_bound)]"
   ]
  },
  {
   "cell_type": "code",
   "execution_count": 26,
   "id": "1cef1f11-ea7c-4bae-b7de-8e5e9df06d57",
   "metadata": {},
   "outputs": [
    {
     "data": {
      "text/plain": [
       "(25714, 7)"
      ]
     },
     "execution_count": 26,
     "metadata": {},
     "output_type": "execute_result"
    }
   ],
   "source": [
    "df.shape"
   ]
  },
  {
   "cell_type": "code",
   "execution_count": 27,
   "id": "6259382b-bfd6-452d-8f06-40f02d1e96d9",
   "metadata": {},
   "outputs": [],
   "source": [
    "df.drop(columns=['price'],inplace=True)"
   ]
  },
  {
   "cell_type": "code",
   "execution_count": 28,
   "id": "9a1555cf-a97b-4f78-a2af-f2473e02bd5d",
   "metadata": {},
   "outputs": [],
   "source": [
    "df.rename(columns={'house_price': 'price'}, inplace=True)"
   ]
  },
  {
   "cell_type": "code",
   "execution_count": 29,
   "id": "0ee47d0f-155f-4f03-bce9-d8df654f437c",
   "metadata": {},
   "outputs": [
    {
     "data": {
      "text/html": [
       "<div>\n",
       "<style scoped>\n",
       "    .dataframe tbody tr th:only-of-type {\n",
       "        vertical-align: middle;\n",
       "    }\n",
       "\n",
       "    .dataframe tbody tr th {\n",
       "        vertical-align: top;\n",
       "    }\n",
       "\n",
       "    .dataframe thead th {\n",
       "        text-align: right;\n",
       "    }\n",
       "</style>\n",
       "<table border=\"1\" class=\"dataframe\">\n",
       "  <thead>\n",
       "    <tr style=\"text-align: right;\">\n",
       "      <th></th>\n",
       "      <th>bedroom</th>\n",
       "      <th>property_type</th>\n",
       "      <th>locality</th>\n",
       "      <th>area</th>\n",
       "      <th>furnish_type</th>\n",
       "      <th>price</th>\n",
       "    </tr>\n",
       "  </thead>\n",
       "  <tbody>\n",
       "    <tr>\n",
       "      <th>0</th>\n",
       "      <td>1.0</td>\n",
       "      <td>Apartment</td>\n",
       "      <td>Vasant Kunj</td>\n",
       "      <td>500.0</td>\n",
       "      <td>Furnished</td>\n",
       "      <td>3999600.0</td>\n",
       "    </tr>\n",
       "    <tr>\n",
       "      <th>1</th>\n",
       "      <td>1.0</td>\n",
       "      <td>Apartment</td>\n",
       "      <td>Sector-B Vasant Kunj</td>\n",
       "      <td>750.0</td>\n",
       "      <td>Furnished</td>\n",
       "      <td>7400000.0</td>\n",
       "    </tr>\n",
       "    <tr>\n",
       "      <th>2</th>\n",
       "      <td>2.0</td>\n",
       "      <td>Apartment</td>\n",
       "      <td>Saket</td>\n",
       "      <td>1050.0</td>\n",
       "      <td>Furnished</td>\n",
       "      <td>5200000.0</td>\n",
       "    </tr>\n",
       "    <tr>\n",
       "      <th>3</th>\n",
       "      <td>1.0</td>\n",
       "      <td>Apartment</td>\n",
       "      <td>New Ashok Nagar</td>\n",
       "      <td>550.0</td>\n",
       "      <td>Furnished</td>\n",
       "      <td>4000000.0</td>\n",
       "    </tr>\n",
       "    <tr>\n",
       "      <th>4</th>\n",
       "      <td>2.0</td>\n",
       "      <td>Villa</td>\n",
       "      <td>laxmi nagar</td>\n",
       "      <td>648.0</td>\n",
       "      <td>Furnished</td>\n",
       "      <td>5400000.0</td>\n",
       "    </tr>\n",
       "  </tbody>\n",
       "</table>\n",
       "</div>"
      ],
      "text/plain": [
       "   bedroom property_type              locality    area furnish_type      price\n",
       "0      1.0     Apartment           Vasant Kunj   500.0    Furnished  3999600.0\n",
       "1      1.0     Apartment  Sector-B Vasant Kunj   750.0    Furnished  7400000.0\n",
       "2      2.0     Apartment                 Saket  1050.0    Furnished  5200000.0\n",
       "3      1.0     Apartment       New Ashok Nagar   550.0    Furnished  4000000.0\n",
       "4      2.0         Villa           laxmi nagar   648.0    Furnished  5400000.0"
      ]
     },
     "execution_count": 29,
     "metadata": {},
     "output_type": "execute_result"
    }
   ],
   "source": [
    "df.head()"
   ]
  },
  {
   "cell_type": "code",
   "execution_count": 30,
   "id": "74df883e-2af4-4a77-896c-6ef091500fb7",
   "metadata": {},
   "outputs": [],
   "source": [
    "df = pd.get_dummies(df).astype(int)"
   ]
  },
  {
   "cell_type": "code",
   "execution_count": 31,
   "id": "9a11b6cb-1089-422e-9e99-89d2b8cef1bc",
   "metadata": {},
   "outputs": [],
   "source": [
    "df['price'] = df['price'] / 100000"
   ]
  },
  {
   "cell_type": "code",
   "execution_count": 32,
   "id": "e9dbd981-02fd-4dd8-be2a-9ab7629e8127",
   "metadata": {},
   "outputs": [
    {
     "data": {
      "text/html": [
       "<div>\n",
       "<style scoped>\n",
       "    .dataframe tbody tr th:only-of-type {\n",
       "        vertical-align: middle;\n",
       "    }\n",
       "\n",
       "    .dataframe tbody tr th {\n",
       "        vertical-align: top;\n",
       "    }\n",
       "\n",
       "    .dataframe thead th {\n",
       "        text-align: right;\n",
       "    }\n",
       "</style>\n",
       "<table border=\"1\" class=\"dataframe\">\n",
       "  <thead>\n",
       "    <tr style=\"text-align: right;\">\n",
       "      <th></th>\n",
       "      <th>bedroom</th>\n",
       "      <th>area</th>\n",
       "      <th>price</th>\n",
       "      <th>property_type_Apartment</th>\n",
       "      <th>property_type_Independent House</th>\n",
       "      <th>property_type_Villa</th>\n",
       "      <th>locality_AGCR Enclave</th>\n",
       "      <th>locality_Abul Fazal Enclave Jamia Nagar</th>\n",
       "      <th>locality_Alaknanda</th>\n",
       "      <th>locality_Anand Niketan</th>\n",
       "      <th>...</th>\n",
       "      <th>locality_dwarka sector 17</th>\n",
       "      <th>locality_greater kailash Enclave 1</th>\n",
       "      <th>locality_i p extension patparganj</th>\n",
       "      <th>locality_laxmi nagar</th>\n",
       "      <th>locality_laxmi nagar near metro station</th>\n",
       "      <th>locality_mayur vihar phase 1</th>\n",
       "      <th>locality_rohini sector 5</th>\n",
       "      <th>locality_vikaspuri</th>\n",
       "      <th>furnish_type_Furnished</th>\n",
       "      <th>furnish_type_Unfurnished</th>\n",
       "    </tr>\n",
       "  </thead>\n",
       "  <tbody>\n",
       "    <tr>\n",
       "      <th>0</th>\n",
       "      <td>1</td>\n",
       "      <td>500</td>\n",
       "      <td>39.996</td>\n",
       "      <td>1</td>\n",
       "      <td>0</td>\n",
       "      <td>0</td>\n",
       "      <td>0</td>\n",
       "      <td>0</td>\n",
       "      <td>0</td>\n",
       "      <td>0</td>\n",
       "      <td>...</td>\n",
       "      <td>0</td>\n",
       "      <td>0</td>\n",
       "      <td>0</td>\n",
       "      <td>0</td>\n",
       "      <td>0</td>\n",
       "      <td>0</td>\n",
       "      <td>0</td>\n",
       "      <td>0</td>\n",
       "      <td>1</td>\n",
       "      <td>0</td>\n",
       "    </tr>\n",
       "    <tr>\n",
       "      <th>1</th>\n",
       "      <td>1</td>\n",
       "      <td>750</td>\n",
       "      <td>74.000</td>\n",
       "      <td>1</td>\n",
       "      <td>0</td>\n",
       "      <td>0</td>\n",
       "      <td>0</td>\n",
       "      <td>0</td>\n",
       "      <td>0</td>\n",
       "      <td>0</td>\n",
       "      <td>...</td>\n",
       "      <td>0</td>\n",
       "      <td>0</td>\n",
       "      <td>0</td>\n",
       "      <td>0</td>\n",
       "      <td>0</td>\n",
       "      <td>0</td>\n",
       "      <td>0</td>\n",
       "      <td>0</td>\n",
       "      <td>1</td>\n",
       "      <td>0</td>\n",
       "    </tr>\n",
       "    <tr>\n",
       "      <th>2</th>\n",
       "      <td>2</td>\n",
       "      <td>1050</td>\n",
       "      <td>52.000</td>\n",
       "      <td>1</td>\n",
       "      <td>0</td>\n",
       "      <td>0</td>\n",
       "      <td>0</td>\n",
       "      <td>0</td>\n",
       "      <td>0</td>\n",
       "      <td>0</td>\n",
       "      <td>...</td>\n",
       "      <td>0</td>\n",
       "      <td>0</td>\n",
       "      <td>0</td>\n",
       "      <td>0</td>\n",
       "      <td>0</td>\n",
       "      <td>0</td>\n",
       "      <td>0</td>\n",
       "      <td>0</td>\n",
       "      <td>1</td>\n",
       "      <td>0</td>\n",
       "    </tr>\n",
       "    <tr>\n",
       "      <th>3</th>\n",
       "      <td>1</td>\n",
       "      <td>550</td>\n",
       "      <td>40.000</td>\n",
       "      <td>1</td>\n",
       "      <td>0</td>\n",
       "      <td>0</td>\n",
       "      <td>0</td>\n",
       "      <td>0</td>\n",
       "      <td>0</td>\n",
       "      <td>0</td>\n",
       "      <td>...</td>\n",
       "      <td>0</td>\n",
       "      <td>0</td>\n",
       "      <td>0</td>\n",
       "      <td>0</td>\n",
       "      <td>0</td>\n",
       "      <td>0</td>\n",
       "      <td>0</td>\n",
       "      <td>0</td>\n",
       "      <td>1</td>\n",
       "      <td>0</td>\n",
       "    </tr>\n",
       "    <tr>\n",
       "      <th>4</th>\n",
       "      <td>2</td>\n",
       "      <td>648</td>\n",
       "      <td>54.000</td>\n",
       "      <td>0</td>\n",
       "      <td>0</td>\n",
       "      <td>1</td>\n",
       "      <td>0</td>\n",
       "      <td>0</td>\n",
       "      <td>0</td>\n",
       "      <td>0</td>\n",
       "      <td>...</td>\n",
       "      <td>0</td>\n",
       "      <td>0</td>\n",
       "      <td>0</td>\n",
       "      <td>1</td>\n",
       "      <td>0</td>\n",
       "      <td>0</td>\n",
       "      <td>0</td>\n",
       "      <td>0</td>\n",
       "      <td>1</td>\n",
       "      <td>0</td>\n",
       "    </tr>\n",
       "  </tbody>\n",
       "</table>\n",
       "<p>5 rows × 233 columns</p>\n",
       "</div>"
      ],
      "text/plain": [
       "   bedroom  area   price  property_type_Apartment  \\\n",
       "0        1   500  39.996                        1   \n",
       "1        1   750  74.000                        1   \n",
       "2        2  1050  52.000                        1   \n",
       "3        1   550  40.000                        1   \n",
       "4        2   648  54.000                        0   \n",
       "\n",
       "   property_type_Independent House  property_type_Villa  \\\n",
       "0                                0                    0   \n",
       "1                                0                    0   \n",
       "2                                0                    0   \n",
       "3                                0                    0   \n",
       "4                                0                    1   \n",
       "\n",
       "   locality_AGCR Enclave  locality_Abul Fazal Enclave Jamia Nagar  \\\n",
       "0                      0                                        0   \n",
       "1                      0                                        0   \n",
       "2                      0                                        0   \n",
       "3                      0                                        0   \n",
       "4                      0                                        0   \n",
       "\n",
       "   locality_Alaknanda  locality_Anand Niketan  ...  locality_dwarka sector 17  \\\n",
       "0                   0                       0  ...                          0   \n",
       "1                   0                       0  ...                          0   \n",
       "2                   0                       0  ...                          0   \n",
       "3                   0                       0  ...                          0   \n",
       "4                   0                       0  ...                          0   \n",
       "\n",
       "   locality_greater kailash Enclave 1  locality_i p extension patparganj  \\\n",
       "0                                   0                                  0   \n",
       "1                                   0                                  0   \n",
       "2                                   0                                  0   \n",
       "3                                   0                                  0   \n",
       "4                                   0                                  0   \n",
       "\n",
       "   locality_laxmi nagar  locality_laxmi nagar near metro station  \\\n",
       "0                     0                                        0   \n",
       "1                     0                                        0   \n",
       "2                     0                                        0   \n",
       "3                     0                                        0   \n",
       "4                     1                                        0   \n",
       "\n",
       "   locality_mayur vihar phase 1  locality_rohini sector 5  locality_vikaspuri  \\\n",
       "0                             0                         0                   0   \n",
       "1                             0                         0                   0   \n",
       "2                             0                         0                   0   \n",
       "3                             0                         0                   0   \n",
       "4                             0                         0                   0   \n",
       "\n",
       "   furnish_type_Furnished  furnish_type_Unfurnished  \n",
       "0                       1                         0  \n",
       "1                       1                         0  \n",
       "2                       1                         0  \n",
       "3                       1                         0  \n",
       "4                       1                         0  \n",
       "\n",
       "[5 rows x 233 columns]"
      ]
     },
     "execution_count": 32,
     "metadata": {},
     "output_type": "execute_result"
    }
   ],
   "source": [
    "df.head()"
   ]
  },
  {
   "cell_type": "code",
   "execution_count": 33,
   "id": "40f0562d-de85-4e1e-8899-50fc97736925",
   "metadata": {},
   "outputs": [
    {
     "data": {
      "text/plain": [
       "(25714, 233)"
      ]
     },
     "execution_count": 33,
     "metadata": {},
     "output_type": "execute_result"
    }
   ],
   "source": [
    "df.shape"
   ]
  },
  {
   "cell_type": "code",
   "execution_count": 34,
   "id": "fcb3143b-00db-45c9-9660-0fae129ded29",
   "metadata": {},
   "outputs": [
    {
     "data": {
      "text/html": [
       "<div>\n",
       "<style scoped>\n",
       "    .dataframe tbody tr th:only-of-type {\n",
       "        vertical-align: middle;\n",
       "    }\n",
       "\n",
       "    .dataframe tbody tr th {\n",
       "        vertical-align: top;\n",
       "    }\n",
       "\n",
       "    .dataframe thead th {\n",
       "        text-align: right;\n",
       "    }\n",
       "</style>\n",
       "<table border=\"1\" class=\"dataframe\">\n",
       "  <thead>\n",
       "    <tr style=\"text-align: right;\">\n",
       "      <th></th>\n",
       "      <th>bedroom</th>\n",
       "      <th>area</th>\n",
       "      <th>price</th>\n",
       "      <th>property_type_Apartment</th>\n",
       "      <th>property_type_Independent House</th>\n",
       "      <th>property_type_Villa</th>\n",
       "      <th>locality_AGCR Enclave</th>\n",
       "      <th>locality_Abul Fazal Enclave Jamia Nagar</th>\n",
       "      <th>locality_Alaknanda</th>\n",
       "      <th>locality_Anand Niketan</th>\n",
       "      <th>...</th>\n",
       "      <th>locality_dwarka sector 17</th>\n",
       "      <th>locality_greater kailash Enclave 1</th>\n",
       "      <th>locality_i p extension patparganj</th>\n",
       "      <th>locality_laxmi nagar</th>\n",
       "      <th>locality_laxmi nagar near metro station</th>\n",
       "      <th>locality_mayur vihar phase 1</th>\n",
       "      <th>locality_rohini sector 5</th>\n",
       "      <th>locality_vikaspuri</th>\n",
       "      <th>furnish_type_Furnished</th>\n",
       "      <th>furnish_type_Unfurnished</th>\n",
       "    </tr>\n",
       "  </thead>\n",
       "  <tbody>\n",
       "    <tr>\n",
       "      <th>0</th>\n",
       "      <td>1</td>\n",
       "      <td>500</td>\n",
       "      <td>39.996</td>\n",
       "      <td>1</td>\n",
       "      <td>0</td>\n",
       "      <td>0</td>\n",
       "      <td>0</td>\n",
       "      <td>0</td>\n",
       "      <td>0</td>\n",
       "      <td>0</td>\n",
       "      <td>...</td>\n",
       "      <td>0</td>\n",
       "      <td>0</td>\n",
       "      <td>0</td>\n",
       "      <td>0</td>\n",
       "      <td>0</td>\n",
       "      <td>0</td>\n",
       "      <td>0</td>\n",
       "      <td>0</td>\n",
       "      <td>1</td>\n",
       "      <td>0</td>\n",
       "    </tr>\n",
       "    <tr>\n",
       "      <th>1</th>\n",
       "      <td>1</td>\n",
       "      <td>750</td>\n",
       "      <td>74.000</td>\n",
       "      <td>1</td>\n",
       "      <td>0</td>\n",
       "      <td>0</td>\n",
       "      <td>0</td>\n",
       "      <td>0</td>\n",
       "      <td>0</td>\n",
       "      <td>0</td>\n",
       "      <td>...</td>\n",
       "      <td>0</td>\n",
       "      <td>0</td>\n",
       "      <td>0</td>\n",
       "      <td>0</td>\n",
       "      <td>0</td>\n",
       "      <td>0</td>\n",
       "      <td>0</td>\n",
       "      <td>0</td>\n",
       "      <td>1</td>\n",
       "      <td>0</td>\n",
       "    </tr>\n",
       "    <tr>\n",
       "      <th>2</th>\n",
       "      <td>2</td>\n",
       "      <td>1050</td>\n",
       "      <td>52.000</td>\n",
       "      <td>1</td>\n",
       "      <td>0</td>\n",
       "      <td>0</td>\n",
       "      <td>0</td>\n",
       "      <td>0</td>\n",
       "      <td>0</td>\n",
       "      <td>0</td>\n",
       "      <td>...</td>\n",
       "      <td>0</td>\n",
       "      <td>0</td>\n",
       "      <td>0</td>\n",
       "      <td>0</td>\n",
       "      <td>0</td>\n",
       "      <td>0</td>\n",
       "      <td>0</td>\n",
       "      <td>0</td>\n",
       "      <td>1</td>\n",
       "      <td>0</td>\n",
       "    </tr>\n",
       "    <tr>\n",
       "      <th>3</th>\n",
       "      <td>1</td>\n",
       "      <td>550</td>\n",
       "      <td>40.000</td>\n",
       "      <td>1</td>\n",
       "      <td>0</td>\n",
       "      <td>0</td>\n",
       "      <td>0</td>\n",
       "      <td>0</td>\n",
       "      <td>0</td>\n",
       "      <td>0</td>\n",
       "      <td>...</td>\n",
       "      <td>0</td>\n",
       "      <td>0</td>\n",
       "      <td>0</td>\n",
       "      <td>0</td>\n",
       "      <td>0</td>\n",
       "      <td>0</td>\n",
       "      <td>0</td>\n",
       "      <td>0</td>\n",
       "      <td>1</td>\n",
       "      <td>0</td>\n",
       "    </tr>\n",
       "    <tr>\n",
       "      <th>4</th>\n",
       "      <td>2</td>\n",
       "      <td>648</td>\n",
       "      <td>54.000</td>\n",
       "      <td>0</td>\n",
       "      <td>0</td>\n",
       "      <td>1</td>\n",
       "      <td>0</td>\n",
       "      <td>0</td>\n",
       "      <td>0</td>\n",
       "      <td>0</td>\n",
       "      <td>...</td>\n",
       "      <td>0</td>\n",
       "      <td>0</td>\n",
       "      <td>0</td>\n",
       "      <td>1</td>\n",
       "      <td>0</td>\n",
       "      <td>0</td>\n",
       "      <td>0</td>\n",
       "      <td>0</td>\n",
       "      <td>1</td>\n",
       "      <td>0</td>\n",
       "    </tr>\n",
       "  </tbody>\n",
       "</table>\n",
       "<p>5 rows × 233 columns</p>\n",
       "</div>"
      ],
      "text/plain": [
       "   bedroom  area   price  property_type_Apartment  \\\n",
       "0        1   500  39.996                        1   \n",
       "1        1   750  74.000                        1   \n",
       "2        2  1050  52.000                        1   \n",
       "3        1   550  40.000                        1   \n",
       "4        2   648  54.000                        0   \n",
       "\n",
       "   property_type_Independent House  property_type_Villa  \\\n",
       "0                                0                    0   \n",
       "1                                0                    0   \n",
       "2                                0                    0   \n",
       "3                                0                    0   \n",
       "4                                0                    1   \n",
       "\n",
       "   locality_AGCR Enclave  locality_Abul Fazal Enclave Jamia Nagar  \\\n",
       "0                      0                                        0   \n",
       "1                      0                                        0   \n",
       "2                      0                                        0   \n",
       "3                      0                                        0   \n",
       "4                      0                                        0   \n",
       "\n",
       "   locality_Alaknanda  locality_Anand Niketan  ...  locality_dwarka sector 17  \\\n",
       "0                   0                       0  ...                          0   \n",
       "1                   0                       0  ...                          0   \n",
       "2                   0                       0  ...                          0   \n",
       "3                   0                       0  ...                          0   \n",
       "4                   0                       0  ...                          0   \n",
       "\n",
       "   locality_greater kailash Enclave 1  locality_i p extension patparganj  \\\n",
       "0                                   0                                  0   \n",
       "1                                   0                                  0   \n",
       "2                                   0                                  0   \n",
       "3                                   0                                  0   \n",
       "4                                   0                                  0   \n",
       "\n",
       "   locality_laxmi nagar  locality_laxmi nagar near metro station  \\\n",
       "0                     0                                        0   \n",
       "1                     0                                        0   \n",
       "2                     0                                        0   \n",
       "3                     0                                        0   \n",
       "4                     1                                        0   \n",
       "\n",
       "   locality_mayur vihar phase 1  locality_rohini sector 5  locality_vikaspuri  \\\n",
       "0                             0                         0                   0   \n",
       "1                             0                         0                   0   \n",
       "2                             0                         0                   0   \n",
       "3                             0                         0                   0   \n",
       "4                             0                         0                   0   \n",
       "\n",
       "   furnish_type_Furnished  furnish_type_Unfurnished  \n",
       "0                       1                         0  \n",
       "1                       1                         0  \n",
       "2                       1                         0  \n",
       "3                       1                         0  \n",
       "4                       1                         0  \n",
       "\n",
       "[5 rows x 233 columns]"
      ]
     },
     "execution_count": 34,
     "metadata": {},
     "output_type": "execute_result"
    }
   ],
   "source": [
    "df.head()"
   ]
  },
  {
   "cell_type": "code",
   "execution_count": 35,
   "id": "e0057584-1b79-4530-9edf-b2f962b3c22a",
   "metadata": {},
   "outputs": [],
   "source": [
    "target=df.price\n",
    "df.drop(columns=['price'],inplace=True)"
   ]
  },
  {
   "cell_type": "code",
   "execution_count": 36,
   "id": "944d11cd-6269-4832-a897-b4d3fe72f8c0",
   "metadata": {},
   "outputs": [],
   "source": [
    "from sklearn.model_selection import train_test_split\n",
    "X_train, X_test, y_train, y_test = train_test_split(df,target,test_size=0.2,random_state=10)"
   ]
  },
  {
   "cell_type": "code",
   "execution_count": 37,
   "id": "0e5cf1af-a8c1-4053-8e16-e77407e35927",
   "metadata": {},
   "outputs": [
    {
     "data": {
      "text/plain": [
       "0.47243366586094604"
      ]
     },
     "execution_count": 37,
     "metadata": {},
     "output_type": "execute_result"
    }
   ],
   "source": [
    "from sklearn.linear_model import LinearRegression\n",
    "lr_clf = LinearRegression()\n",
    "lr_clf.fit(X_train,y_train)\n",
    "lr_clf.score(X_test,y_test)"
   ]
  },
  {
   "cell_type": "code",
   "execution_count": 38,
   "id": "7b166460-0c6e-4987-a768-1d9f82c26c60",
   "metadata": {},
   "outputs": [
    {
     "data": {
      "text/plain": [
       "array([0.45786151, 0.46027564, 0.48044429, 0.46417651, 0.44606842])"
      ]
     },
     "execution_count": 38,
     "metadata": {},
     "output_type": "execute_result"
    }
   ],
   "source": [
    "from sklearn.model_selection import ShuffleSplit\n",
    "from sklearn.model_selection import cross_val_score\n",
    "\n",
    "cv = ShuffleSplit(n_splits=5, test_size=0.2, random_state=0)\n",
    "\n",
    "cross_val_score(LinearRegression(), df,target, cv=cv)"
   ]
  },
  {
   "cell_type": "code",
   "execution_count": 39,
   "id": "865efe84-dcd4-4f78-b8ef-d1f20acf1452",
   "metadata": {},
   "outputs": [
    {
     "data": {
      "text/html": [
       "<div>\n",
       "<style scoped>\n",
       "    .dataframe tbody tr th:only-of-type {\n",
       "        vertical-align: middle;\n",
       "    }\n",
       "\n",
       "    .dataframe tbody tr th {\n",
       "        vertical-align: top;\n",
       "    }\n",
       "\n",
       "    .dataframe thead th {\n",
       "        text-align: right;\n",
       "    }\n",
       "</style>\n",
       "<table border=\"1\" class=\"dataframe\">\n",
       "  <thead>\n",
       "    <tr style=\"text-align: right;\">\n",
       "      <th></th>\n",
       "      <th>model</th>\n",
       "      <th>best_score</th>\n",
       "      <th>best_params</th>\n",
       "    </tr>\n",
       "  </thead>\n",
       "  <tbody>\n",
       "    <tr>\n",
       "      <th>0</th>\n",
       "      <td>linear_regression</td>\n",
       "      <td>0.461765</td>\n",
       "      <td>{'fit_intercept': True}</td>\n",
       "    </tr>\n",
       "    <tr>\n",
       "      <th>1</th>\n",
       "      <td>lasso</td>\n",
       "      <td>0.383590</td>\n",
       "      <td>{'alpha': 0.1, 'selection': 'random'}</td>\n",
       "    </tr>\n",
       "    <tr>\n",
       "      <th>2</th>\n",
       "      <td>decision_tree</td>\n",
       "      <td>0.784550</td>\n",
       "      <td>{'criterion': 'friedman_mse', 'splitter': 'ran...</td>\n",
       "    </tr>\n",
       "  </tbody>\n",
       "</table>\n",
       "</div>"
      ],
      "text/plain": [
       "               model  best_score  \\\n",
       "0  linear_regression    0.461765   \n",
       "1              lasso    0.383590   \n",
       "2      decision_tree    0.784550   \n",
       "\n",
       "                                         best_params  \n",
       "0                            {'fit_intercept': True}  \n",
       "1              {'alpha': 0.1, 'selection': 'random'}  \n",
       "2  {'criterion': 'friedman_mse', 'splitter': 'ran...  "
      ]
     },
     "execution_count": 39,
     "metadata": {},
     "output_type": "execute_result"
    }
   ],
   "source": [
    "from sklearn.model_selection import GridSearchCV, ShuffleSplit\n",
    "from sklearn.linear_model import LinearRegression, Lasso\n",
    "from sklearn.tree import DecisionTreeRegressor\n",
    "\n",
    "def find_best_model_using_gridsearchcv(X, y):\n",
    "    algos = {\n",
    "        'linear_regression': {\n",
    "            'model': LinearRegression(),\n",
    "            'params': {\n",
    "                'fit_intercept': [True, False]\n",
    "            }\n",
    "        },\n",
    "        'lasso': {\n",
    "            'model': Lasso(),\n",
    "            'params': {\n",
    "                'alpha': [0.1, 1, 10],\n",
    "                'selection': ['random', 'cyclic']\n",
    "            }\n",
    "        },\n",
    "        'decision_tree': {\n",
    "            'model': DecisionTreeRegressor(),\n",
    "            'params': {\n",
    "                'criterion': ['squared_error', 'friedman_mse'],\n",
    "                'splitter': ['best', 'random']\n",
    "            }\n",
    "        }\n",
    "    }\n",
    "    \n",
    "    scores = []\n",
    "    cv = ShuffleSplit(n_splits=5, test_size=0.2, random_state=0)\n",
    "    \n",
    "    for algo_name, config in algos.items():\n",
    "        gs = GridSearchCV(config['model'], config['params'], cv=cv, return_train_score=False)\n",
    "        gs.fit(X, y)\n",
    "        scores.append({\n",
    "            'model': algo_name,\n",
    "            'best_score': gs.best_score_,\n",
    "            'best_params': gs.best_params_\n",
    "        })\n",
    "\n",
    "    return pd.DataFrame(scores, columns=['model', 'best_score', 'best_params'])\n",
    "find_best_model_using_gridsearchcv(df,target)"
   ]
  },
  {
   "cell_type": "code",
   "execution_count": 41,
   "id": "89038538-b4e7-4461-8a55-7c025cc81964",
   "metadata": {},
   "outputs": [
    {
     "data": {
      "text/plain": [
       "0.9348717019167576"
      ]
     },
     "execution_count": 41,
     "metadata": {},
     "output_type": "execute_result"
    }
   ],
   "source": [
    "model=DecisionTreeRegressor(criterion= 'friedman_mse',splitter='random')\n",
    "model.fit(df,target)\n",
    "model.score(X_test, y_test)"
   ]
  },
  {
   "cell_type": "code",
   "execution_count": 43,
   "id": "df3c2d01-f2b6-4360-9337-72c6c5208348",
   "metadata": {},
   "outputs": [],
   "source": [
    "import pickle\n",
    "with open('Delhi_model.pickle','wb') as f:\n",
    "    pickle.dump(model,f)"
   ]
  },
  {
   "cell_type": "code",
   "execution_count": 45,
   "id": "b677d947-aa4d-437a-a03d-f400b3ad93c4",
   "metadata": {},
   "outputs": [],
   "source": [
    "import json\n",
    "columns = {\n",
    "    'data_columns' : [col.lower() for col in df.columns]\n",
    "}\n",
    "with open(\"Delhi_columns.json\",\"w\") as f:\n",
    "    f.write(json.dumps(columns))"
   ]
  },
  {
   "cell_type": "code",
   "execution_count": null,
   "id": "5156ee29-7b72-45f0-9f6f-f1058782b0be",
   "metadata": {},
   "outputs": [],
   "source": []
  }
 ],
 "metadata": {
  "kernelspec": {
   "display_name": "Python 3 (ipykernel)",
   "language": "python",
   "name": "python3"
  },
  "language_info": {
   "codemirror_mode": {
    "name": "ipython",
    "version": 3
   },
   "file_extension": ".py",
   "mimetype": "text/x-python",
   "name": "python",
   "nbconvert_exporter": "python",
   "pygments_lexer": "ipython3",
   "version": "3.12.7"
  }
 },
 "nbformat": 4,
 "nbformat_minor": 5
}
