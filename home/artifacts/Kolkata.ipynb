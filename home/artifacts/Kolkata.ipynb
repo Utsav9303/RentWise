{
 "cells": [
  {
   "cell_type": "code",
   "execution_count": 1,
   "id": "acfa4efb-64bc-4927-82db-6ca39c6e849f",
   "metadata": {},
   "outputs": [],
   "source": [
    "import numpy as np \n",
    "import pandas as pd"
   ]
  },
  {
   "cell_type": "code",
   "execution_count": 2,
   "id": "c0195762-aeec-4e31-95bb-b4bea5500302",
   "metadata": {},
   "outputs": [
    {
     "data": {
      "text/html": [
       "<div>\n",
       "<style scoped>\n",
       "    .dataframe tbody tr th:only-of-type {\n",
       "        vertical-align: middle;\n",
       "    }\n",
       "\n",
       "    .dataframe tbody tr th {\n",
       "        vertical-align: top;\n",
       "    }\n",
       "\n",
       "    .dataframe thead th {\n",
       "        text-align: right;\n",
       "    }\n",
       "</style>\n",
       "<table border=\"1\" class=\"dataframe\">\n",
       "  <thead>\n",
       "    <tr style=\"text-align: right;\">\n",
       "      <th></th>\n",
       "      <th>seller_type</th>\n",
       "      <th>bedroom</th>\n",
       "      <th>layout_type</th>\n",
       "      <th>property_type</th>\n",
       "      <th>locality</th>\n",
       "      <th>price</th>\n",
       "      <th>area</th>\n",
       "      <th>furnish_type</th>\n",
       "      <th>bathroom</th>\n",
       "    </tr>\n",
       "  </thead>\n",
       "  <tbody>\n",
       "    <tr>\n",
       "      <th>0</th>\n",
       "      <td>OWNER</td>\n",
       "      <td>2</td>\n",
       "      <td>BHK</td>\n",
       "      <td>Independent Floor</td>\n",
       "      <td>Sodepur</td>\n",
       "      <td>6,000</td>\n",
       "      <td>600</td>\n",
       "      <td>Unfurnished</td>\n",
       "      <td>1 bathrooms</td>\n",
       "    </tr>\n",
       "    <tr>\n",
       "      <th>1</th>\n",
       "      <td>OWNER</td>\n",
       "      <td>1</td>\n",
       "      <td>RK</td>\n",
       "      <td>Studio Apartment</td>\n",
       "      <td>south dum dum</td>\n",
       "      <td>4,000</td>\n",
       "      <td>150</td>\n",
       "      <td>Semi-Furnished</td>\n",
       "      <td>1 bathrooms</td>\n",
       "    </tr>\n",
       "    <tr>\n",
       "      <th>2</th>\n",
       "      <td>OWNER</td>\n",
       "      <td>1</td>\n",
       "      <td>RK</td>\n",
       "      <td>Studio Apartment</td>\n",
       "      <td>Sector 22</td>\n",
       "      <td>6,500</td>\n",
       "      <td>350</td>\n",
       "      <td>Semi-Furnished</td>\n",
       "      <td>1 bathrooms</td>\n",
       "    </tr>\n",
       "    <tr>\n",
       "      <th>3</th>\n",
       "      <td>OWNER</td>\n",
       "      <td>9</td>\n",
       "      <td>BHK</td>\n",
       "      <td>Independent House</td>\n",
       "      <td>Lake Gardens</td>\n",
       "      <td>1.5</td>\n",
       "      <td>6500</td>\n",
       "      <td>Unfurnished</td>\n",
       "      <td>6 bathrooms</td>\n",
       "    </tr>\n",
       "    <tr>\n",
       "      <th>4</th>\n",
       "      <td>OWNER</td>\n",
       "      <td>3</td>\n",
       "      <td>BHK</td>\n",
       "      <td>Independent House</td>\n",
       "      <td>Dhapa</td>\n",
       "      <td>26,000</td>\n",
       "      <td>1200</td>\n",
       "      <td>Furnished</td>\n",
       "      <td>2 bathrooms</td>\n",
       "    </tr>\n",
       "  </tbody>\n",
       "</table>\n",
       "</div>"
      ],
      "text/plain": [
       "  seller_type  bedroom layout_type      property_type       locality   price  \\\n",
       "0       OWNER        2         BHK  Independent Floor        Sodepur   6,000   \n",
       "1       OWNER        1          RK   Studio Apartment  south dum dum   4,000   \n",
       "2       OWNER        1          RK   Studio Apartment      Sector 22   6,500   \n",
       "3       OWNER        9         BHK  Independent House   Lake Gardens     1.5   \n",
       "4       OWNER        3         BHK  Independent House          Dhapa  26,000   \n",
       "\n",
       "   area    furnish_type     bathroom  \n",
       "0   600     Unfurnished  1 bathrooms  \n",
       "1   150  Semi-Furnished  1 bathrooms  \n",
       "2   350  Semi-Furnished  1 bathrooms  \n",
       "3  6500     Unfurnished  6 bathrooms  \n",
       "4  1200       Furnished  2 bathrooms  "
      ]
     },
     "execution_count": 2,
     "metadata": {},
     "output_type": "execute_result"
    }
   ],
   "source": [
    "df=pd.read_csv('./datasets/Kolkata_rent.csv')\n",
    "df.head()"
   ]
  },
  {
   "cell_type": "code",
   "execution_count": 3,
   "id": "dfac0647-684f-469f-a8aa-953fd2777128",
   "metadata": {},
   "outputs": [
    {
     "data": {
      "text/html": [
       "<div>\n",
       "<style scoped>\n",
       "    .dataframe tbody tr th:only-of-type {\n",
       "        vertical-align: middle;\n",
       "    }\n",
       "\n",
       "    .dataframe tbody tr th {\n",
       "        vertical-align: top;\n",
       "    }\n",
       "\n",
       "    .dataframe thead th {\n",
       "        text-align: right;\n",
       "    }\n",
       "</style>\n",
       "<table border=\"1\" class=\"dataframe\">\n",
       "  <thead>\n",
       "    <tr style=\"text-align: right;\">\n",
       "      <th></th>\n",
       "      <th>bedroom</th>\n",
       "      <th>property_type</th>\n",
       "      <th>locality</th>\n",
       "      <th>price</th>\n",
       "      <th>area</th>\n",
       "      <th>furnish_type</th>\n",
       "    </tr>\n",
       "  </thead>\n",
       "  <tbody>\n",
       "    <tr>\n",
       "      <th>0</th>\n",
       "      <td>2</td>\n",
       "      <td>Independent Floor</td>\n",
       "      <td>Sodepur</td>\n",
       "      <td>6,000</td>\n",
       "      <td>600</td>\n",
       "      <td>Unfurnished</td>\n",
       "    </tr>\n",
       "    <tr>\n",
       "      <th>1</th>\n",
       "      <td>1</td>\n",
       "      <td>Studio Apartment</td>\n",
       "      <td>south dum dum</td>\n",
       "      <td>4,000</td>\n",
       "      <td>150</td>\n",
       "      <td>Semi-Furnished</td>\n",
       "    </tr>\n",
       "    <tr>\n",
       "      <th>2</th>\n",
       "      <td>1</td>\n",
       "      <td>Studio Apartment</td>\n",
       "      <td>Sector 22</td>\n",
       "      <td>6,500</td>\n",
       "      <td>350</td>\n",
       "      <td>Semi-Furnished</td>\n",
       "    </tr>\n",
       "    <tr>\n",
       "      <th>3</th>\n",
       "      <td>9</td>\n",
       "      <td>Independent House</td>\n",
       "      <td>Lake Gardens</td>\n",
       "      <td>1.5</td>\n",
       "      <td>6500</td>\n",
       "      <td>Unfurnished</td>\n",
       "    </tr>\n",
       "    <tr>\n",
       "      <th>4</th>\n",
       "      <td>3</td>\n",
       "      <td>Independent House</td>\n",
       "      <td>Dhapa</td>\n",
       "      <td>26,000</td>\n",
       "      <td>1200</td>\n",
       "      <td>Furnished</td>\n",
       "    </tr>\n",
       "  </tbody>\n",
       "</table>\n",
       "</div>"
      ],
      "text/plain": [
       "   bedroom      property_type       locality   price  area    furnish_type\n",
       "0        2  Independent Floor        Sodepur   6,000   600     Unfurnished\n",
       "1        1   Studio Apartment  south dum dum   4,000   150  Semi-Furnished\n",
       "2        1   Studio Apartment      Sector 22   6,500   350  Semi-Furnished\n",
       "3        9  Independent House   Lake Gardens     1.5  6500     Unfurnished\n",
       "4        3  Independent House          Dhapa  26,000  1200       Furnished"
      ]
     },
     "execution_count": 3,
     "metadata": {},
     "output_type": "execute_result"
    }
   ],
   "source": [
    "df.drop(columns=['seller_type','layout_type','bathroom'],inplace=True)\n",
    "df.head()"
   ]
  },
  {
   "cell_type": "code",
   "execution_count": 4,
   "id": "4a2295c2-97c2-4a3a-b60d-ee1413a758ba",
   "metadata": {},
   "outputs": [
    {
     "data": {
      "text/plain": [
       "(9900, 6)"
      ]
     },
     "execution_count": 4,
     "metadata": {},
     "output_type": "execute_result"
    }
   ],
   "source": [
    "df.shape"
   ]
  },
  {
   "cell_type": "code",
   "execution_count": 5,
   "id": "1c0174b6-b232-448c-88a3-4bb56399b9e7",
   "metadata": {},
   "outputs": [
    {
     "data": {
      "text/plain": [
       "bedroom          0\n",
       "property_type    0\n",
       "locality         0\n",
       "price            0\n",
       "area             0\n",
       "furnish_type     0\n",
       "dtype: int64"
      ]
     },
     "execution_count": 5,
     "metadata": {},
     "output_type": "execute_result"
    }
   ],
   "source": [
    "df.isnull().sum()"
   ]
  },
  {
   "cell_type": "code",
   "execution_count": 6,
   "id": "730be567-3775-42d1-9bb0-97ba038016a1",
   "metadata": {},
   "outputs": [],
   "source": [
    "df['price'] = df['price'].str.replace(r'[^\\d.]+', '', regex=True)"
   ]
  },
  {
   "cell_type": "code",
   "execution_count": 7,
   "id": "44d8798b-5350-4cb0-ac83-d8d02352aa42",
   "metadata": {},
   "outputs": [],
   "source": [
    "df['price'] = pd.to_numeric(df['price'], errors='coerce')"
   ]
  },
  {
   "cell_type": "code",
   "execution_count": 8,
   "id": "cb02330c-263f-4f1f-9008-2ad4f2b3074e",
   "metadata": {},
   "outputs": [
    {
     "data": {
      "text/html": [
       "<div>\n",
       "<style scoped>\n",
       "    .dataframe tbody tr th:only-of-type {\n",
       "        vertical-align: middle;\n",
       "    }\n",
       "\n",
       "    .dataframe tbody tr th {\n",
       "        vertical-align: top;\n",
       "    }\n",
       "\n",
       "    .dataframe thead th {\n",
       "        text-align: right;\n",
       "    }\n",
       "</style>\n",
       "<table border=\"1\" class=\"dataframe\">\n",
       "  <thead>\n",
       "    <tr style=\"text-align: right;\">\n",
       "      <th></th>\n",
       "      <th>bedroom</th>\n",
       "      <th>property_type</th>\n",
       "      <th>locality</th>\n",
       "      <th>price</th>\n",
       "      <th>area</th>\n",
       "      <th>furnish_type</th>\n",
       "    </tr>\n",
       "  </thead>\n",
       "  <tbody>\n",
       "    <tr>\n",
       "      <th>0</th>\n",
       "      <td>2</td>\n",
       "      <td>Independent Floor</td>\n",
       "      <td>Sodepur</td>\n",
       "      <td>6000.0</td>\n",
       "      <td>600</td>\n",
       "      <td>Unfurnished</td>\n",
       "    </tr>\n",
       "    <tr>\n",
       "      <th>1</th>\n",
       "      <td>1</td>\n",
       "      <td>Studio Apartment</td>\n",
       "      <td>south dum dum</td>\n",
       "      <td>4000.0</td>\n",
       "      <td>150</td>\n",
       "      <td>Semi-Furnished</td>\n",
       "    </tr>\n",
       "    <tr>\n",
       "      <th>2</th>\n",
       "      <td>1</td>\n",
       "      <td>Studio Apartment</td>\n",
       "      <td>Sector 22</td>\n",
       "      <td>6500.0</td>\n",
       "      <td>350</td>\n",
       "      <td>Semi-Furnished</td>\n",
       "    </tr>\n",
       "    <tr>\n",
       "      <th>3</th>\n",
       "      <td>9</td>\n",
       "      <td>Independent House</td>\n",
       "      <td>Lake Gardens</td>\n",
       "      <td>1.5</td>\n",
       "      <td>6500</td>\n",
       "      <td>Unfurnished</td>\n",
       "    </tr>\n",
       "    <tr>\n",
       "      <th>4</th>\n",
       "      <td>3</td>\n",
       "      <td>Independent House</td>\n",
       "      <td>Dhapa</td>\n",
       "      <td>26000.0</td>\n",
       "      <td>1200</td>\n",
       "      <td>Furnished</td>\n",
       "    </tr>\n",
       "  </tbody>\n",
       "</table>\n",
       "</div>"
      ],
      "text/plain": [
       "   bedroom      property_type       locality    price  area    furnish_type\n",
       "0        2  Independent Floor        Sodepur   6000.0   600     Unfurnished\n",
       "1        1   Studio Apartment  south dum dum   4000.0   150  Semi-Furnished\n",
       "2        1   Studio Apartment      Sector 22   6500.0   350  Semi-Furnished\n",
       "3        9  Independent House   Lake Gardens      1.5  6500     Unfurnished\n",
       "4        3  Independent House          Dhapa  26000.0  1200       Furnished"
      ]
     },
     "execution_count": 8,
     "metadata": {},
     "output_type": "execute_result"
    }
   ],
   "source": [
    "df.head()"
   ]
  },
  {
   "cell_type": "code",
   "execution_count": 9,
   "id": "aca90c2b-87b3-4d52-baa2-01e64d821669",
   "metadata": {},
   "outputs": [
    {
     "name": "stdout",
     "output_type": "stream",
     "text": [
      "<class 'pandas.core.frame.DataFrame'>\n",
      "RangeIndex: 9900 entries, 0 to 9899\n",
      "Data columns (total 6 columns):\n",
      " #   Column         Non-Null Count  Dtype  \n",
      "---  ------         --------------  -----  \n",
      " 0   bedroom        9900 non-null   int64  \n",
      " 1   property_type  9900 non-null   object \n",
      " 2   locality       9900 non-null   object \n",
      " 3   price          9900 non-null   float64\n",
      " 4   area           9900 non-null   int64  \n",
      " 5   furnish_type   9900 non-null   object \n",
      "dtypes: float64(1), int64(2), object(3)\n",
      "memory usage: 464.2+ KB\n"
     ]
    }
   ],
   "source": [
    "df.info()"
   ]
  },
  {
   "cell_type": "code",
   "execution_count": 10,
   "id": "a774766d-54c7-4ca3-a5c0-6d676e62137a",
   "metadata": {},
   "outputs": [],
   "source": [
    "df[\"house_price\"] = (df[\"price\"] * 12 * 100) / 3"
   ]
  },
  {
   "cell_type": "code",
   "execution_count": 11,
   "id": "c2999d19-56ba-4569-afbf-b0f5915e578c",
   "metadata": {},
   "outputs": [
    {
     "data": {
      "text/html": [
       "<div>\n",
       "<style scoped>\n",
       "    .dataframe tbody tr th:only-of-type {\n",
       "        vertical-align: middle;\n",
       "    }\n",
       "\n",
       "    .dataframe tbody tr th {\n",
       "        vertical-align: top;\n",
       "    }\n",
       "\n",
       "    .dataframe thead th {\n",
       "        text-align: right;\n",
       "    }\n",
       "</style>\n",
       "<table border=\"1\" class=\"dataframe\">\n",
       "  <thead>\n",
       "    <tr style=\"text-align: right;\">\n",
       "      <th></th>\n",
       "      <th>bedroom</th>\n",
       "      <th>property_type</th>\n",
       "      <th>locality</th>\n",
       "      <th>price</th>\n",
       "      <th>area</th>\n",
       "      <th>furnish_type</th>\n",
       "      <th>house_price</th>\n",
       "    </tr>\n",
       "  </thead>\n",
       "  <tbody>\n",
       "    <tr>\n",
       "      <th>0</th>\n",
       "      <td>2</td>\n",
       "      <td>Independent Floor</td>\n",
       "      <td>Sodepur</td>\n",
       "      <td>6000.0</td>\n",
       "      <td>600</td>\n",
       "      <td>Unfurnished</td>\n",
       "      <td>2400000.0</td>\n",
       "    </tr>\n",
       "    <tr>\n",
       "      <th>1</th>\n",
       "      <td>1</td>\n",
       "      <td>Studio Apartment</td>\n",
       "      <td>south dum dum</td>\n",
       "      <td>4000.0</td>\n",
       "      <td>150</td>\n",
       "      <td>Semi-Furnished</td>\n",
       "      <td>1600000.0</td>\n",
       "    </tr>\n",
       "    <tr>\n",
       "      <th>2</th>\n",
       "      <td>1</td>\n",
       "      <td>Studio Apartment</td>\n",
       "      <td>Sector 22</td>\n",
       "      <td>6500.0</td>\n",
       "      <td>350</td>\n",
       "      <td>Semi-Furnished</td>\n",
       "      <td>2600000.0</td>\n",
       "    </tr>\n",
       "    <tr>\n",
       "      <th>3</th>\n",
       "      <td>9</td>\n",
       "      <td>Independent House</td>\n",
       "      <td>Lake Gardens</td>\n",
       "      <td>1.5</td>\n",
       "      <td>6500</td>\n",
       "      <td>Unfurnished</td>\n",
       "      <td>600.0</td>\n",
       "    </tr>\n",
       "    <tr>\n",
       "      <th>4</th>\n",
       "      <td>3</td>\n",
       "      <td>Independent House</td>\n",
       "      <td>Dhapa</td>\n",
       "      <td>26000.0</td>\n",
       "      <td>1200</td>\n",
       "      <td>Furnished</td>\n",
       "      <td>10400000.0</td>\n",
       "    </tr>\n",
       "  </tbody>\n",
       "</table>\n",
       "</div>"
      ],
      "text/plain": [
       "   bedroom      property_type       locality    price  area    furnish_type  \\\n",
       "0        2  Independent Floor        Sodepur   6000.0   600     Unfurnished   \n",
       "1        1   Studio Apartment  south dum dum   4000.0   150  Semi-Furnished   \n",
       "2        1   Studio Apartment      Sector 22   6500.0   350  Semi-Furnished   \n",
       "3        9  Independent House   Lake Gardens      1.5  6500     Unfurnished   \n",
       "4        3  Independent House          Dhapa  26000.0  1200       Furnished   \n",
       "\n",
       "   house_price  \n",
       "0    2400000.0  \n",
       "1    1600000.0  \n",
       "2    2600000.0  \n",
       "3        600.0  \n",
       "4   10400000.0  "
      ]
     },
     "execution_count": 11,
     "metadata": {},
     "output_type": "execute_result"
    }
   ],
   "source": [
    "df.head()"
   ]
  },
  {
   "cell_type": "code",
   "execution_count": 12,
   "id": "f12b92b1-6e94-45e8-be80-2b211a3469b7",
   "metadata": {},
   "outputs": [
    {
     "data": {
      "text/plain": [
       "bedroom\n",
       "2     4739\n",
       "3     2696\n",
       "1     2032\n",
       "4      366\n",
       "5       44\n",
       "6       12\n",
       "10       5\n",
       "9        3\n",
       "7        1\n",
       "15       1\n",
       "12       1\n",
       "Name: count, dtype: int64"
      ]
     },
     "execution_count": 12,
     "metadata": {},
     "output_type": "execute_result"
    }
   ],
   "source": [
    "df.bedroom.value_counts()"
   ]
  },
  {
   "cell_type": "code",
   "execution_count": 13,
   "id": "54e711a2-cb9f-4d68-ae0e-cdf930339921",
   "metadata": {},
   "outputs": [],
   "source": [
    "df = df[df['bedroom'] <= 5]"
   ]
  },
  {
   "cell_type": "code",
   "execution_count": 14,
   "id": "9c3d11da-3649-452f-99bd-4d496486cf7d",
   "metadata": {},
   "outputs": [
    {
     "data": {
      "text/plain": [
       "property_type\n",
       "Apartment            7417\n",
       "Independent Floor    1080\n",
       "Independent House     779\n",
       "Studio Apartment      547\n",
       "Villa                  54\n",
       "Name: count, dtype: int64"
      ]
     },
     "execution_count": 14,
     "metadata": {},
     "output_type": "execute_result"
    }
   ],
   "source": [
    "df.property_type.value_counts()"
   ]
  },
  {
   "cell_type": "code",
   "execution_count": 15,
   "id": "a4c24d65-8894-423d-a4ee-d7ab2854b342",
   "metadata": {},
   "outputs": [],
   "source": [
    "df[\"property_type\"] = df[\"property_type\"].replace(\"Studio Apartment\", \"Apartment\")\n",
    "df[\"property_type\"] = df[\"property_type\"].replace(\"Independent Floor\", \"Villa\")\n",
    "df[\"property_type\"] = df[\"property_type\"].replace(\"Penthouse\", \"Villa\")"
   ]
  },
  {
   "cell_type": "code",
   "execution_count": 16,
   "id": "5e067641-3b96-48b2-b312-92f95a99c33e",
   "metadata": {},
   "outputs": [
    {
     "data": {
      "text/html": [
       "<div>\n",
       "<style scoped>\n",
       "    .dataframe tbody tr th:only-of-type {\n",
       "        vertical-align: middle;\n",
       "    }\n",
       "\n",
       "    .dataframe tbody tr th {\n",
       "        vertical-align: top;\n",
       "    }\n",
       "\n",
       "    .dataframe thead th {\n",
       "        text-align: right;\n",
       "    }\n",
       "</style>\n",
       "<table border=\"1\" class=\"dataframe\">\n",
       "  <thead>\n",
       "    <tr style=\"text-align: right;\">\n",
       "      <th></th>\n",
       "      <th>bedroom</th>\n",
       "      <th>property_type</th>\n",
       "      <th>locality</th>\n",
       "      <th>price</th>\n",
       "      <th>area</th>\n",
       "      <th>furnish_type</th>\n",
       "      <th>house_price</th>\n",
       "    </tr>\n",
       "  </thead>\n",
       "  <tbody>\n",
       "    <tr>\n",
       "      <th>0</th>\n",
       "      <td>2</td>\n",
       "      <td>Villa</td>\n",
       "      <td>Sodepur</td>\n",
       "      <td>6000.0</td>\n",
       "      <td>600</td>\n",
       "      <td>Unfurnished</td>\n",
       "      <td>2400000.0</td>\n",
       "    </tr>\n",
       "    <tr>\n",
       "      <th>1</th>\n",
       "      <td>1</td>\n",
       "      <td>Apartment</td>\n",
       "      <td>south dum dum</td>\n",
       "      <td>4000.0</td>\n",
       "      <td>150</td>\n",
       "      <td>Semi-Furnished</td>\n",
       "      <td>1600000.0</td>\n",
       "    </tr>\n",
       "    <tr>\n",
       "      <th>2</th>\n",
       "      <td>1</td>\n",
       "      <td>Apartment</td>\n",
       "      <td>Sector 22</td>\n",
       "      <td>6500.0</td>\n",
       "      <td>350</td>\n",
       "      <td>Semi-Furnished</td>\n",
       "      <td>2600000.0</td>\n",
       "    </tr>\n",
       "    <tr>\n",
       "      <th>4</th>\n",
       "      <td>3</td>\n",
       "      <td>Independent House</td>\n",
       "      <td>Dhapa</td>\n",
       "      <td>26000.0</td>\n",
       "      <td>1200</td>\n",
       "      <td>Furnished</td>\n",
       "      <td>10400000.0</td>\n",
       "    </tr>\n",
       "    <tr>\n",
       "      <th>5</th>\n",
       "      <td>2</td>\n",
       "      <td>Independent House</td>\n",
       "      <td>Dum Dum</td>\n",
       "      <td>10000.0</td>\n",
       "      <td>800</td>\n",
       "      <td>Semi-Furnished</td>\n",
       "      <td>4000000.0</td>\n",
       "    </tr>\n",
       "  </tbody>\n",
       "</table>\n",
       "</div>"
      ],
      "text/plain": [
       "   bedroom      property_type       locality    price  area    furnish_type  \\\n",
       "0        2              Villa        Sodepur   6000.0   600     Unfurnished   \n",
       "1        1          Apartment  south dum dum   4000.0   150  Semi-Furnished   \n",
       "2        1          Apartment      Sector 22   6500.0   350  Semi-Furnished   \n",
       "4        3  Independent House          Dhapa  26000.0  1200       Furnished   \n",
       "5        2  Independent House        Dum Dum  10000.0   800  Semi-Furnished   \n",
       "\n",
       "   house_price  \n",
       "0    2400000.0  \n",
       "1    1600000.0  \n",
       "2    2600000.0  \n",
       "4   10400000.0  \n",
       "5    4000000.0  "
      ]
     },
     "execution_count": 16,
     "metadata": {},
     "output_type": "execute_result"
    }
   ],
   "source": [
    "df.head()"
   ]
  },
  {
   "cell_type": "code",
   "execution_count": 17,
   "id": "4aa7f0a9-7822-4b6b-82ee-5ffc4a9cf9c4",
   "metadata": {},
   "outputs": [
    {
     "data": {
      "text/plain": [
       "count     409.000000\n",
       "mean       24.149144\n",
       "std       106.977823\n",
       "min         1.000000\n",
       "25%         1.000000\n",
       "50%         3.000000\n",
       "75%        13.000000\n",
       "max      1911.000000\n",
       "Name: count, dtype: float64"
      ]
     },
     "execution_count": 17,
     "metadata": {},
     "output_type": "execute_result"
    }
   ],
   "source": [
    "df.locality.value_counts().describe()"
   ]
  },
  {
   "cell_type": "code",
   "execution_count": 18,
   "id": "231abce0-8420-4781-9933-a7898636ffd7",
   "metadata": {},
   "outputs": [],
   "source": [
    "locality_counts = df[\"locality\"].value_counts()\n",
    "df = df[df[\"locality\"].isin(locality_counts[locality_counts >=10].index)]"
   ]
  },
  {
   "cell_type": "code",
   "execution_count": 19,
   "id": "73fe1213-42b4-42c7-9586-dd913a2ae6fe",
   "metadata": {},
   "outputs": [
    {
     "data": {
      "text/plain": [
       "119"
      ]
     },
     "execution_count": 19,
     "metadata": {},
     "output_type": "execute_result"
    }
   ],
   "source": [
    "df.locality.nunique()"
   ]
  },
  {
   "cell_type": "code",
   "execution_count": 20,
   "id": "c7ab6151-1e6b-42d4-8a62-ced9560e81dc",
   "metadata": {},
   "outputs": [
    {
     "data": {
      "text/plain": [
       "(9127, 7)"
      ]
     },
     "execution_count": 20,
     "metadata": {},
     "output_type": "execute_result"
    }
   ],
   "source": [
    "df.shape"
   ]
  },
  {
   "cell_type": "code",
   "execution_count": 21,
   "id": "ec8fd0e2-fccb-415e-a756-54620963b56d",
   "metadata": {},
   "outputs": [
    {
     "data": {
      "text/plain": [
       "furnish_type\n",
       "Unfurnished       3970\n",
       "Semi-Furnished    2975\n",
       "Furnished         2182\n",
       "Name: count, dtype: int64"
      ]
     },
     "execution_count": 21,
     "metadata": {},
     "output_type": "execute_result"
    }
   ],
   "source": [
    "df.furnish_type.value_counts()"
   ]
  },
  {
   "cell_type": "code",
   "execution_count": 22,
   "id": "40c401b1-0c59-4333-9884-5f7d8e498d2a",
   "metadata": {},
   "outputs": [],
   "source": [
    "df[\"furnish_type\"] = df[\"furnish_type\"].replace(\"Semi-Furnished\", \"Furnished\")"
   ]
  },
  {
   "cell_type": "code",
   "execution_count": 23,
   "id": "3f28eecf-4895-4f65-b57d-84627d48c130",
   "metadata": {},
   "outputs": [],
   "source": [
    "import matplotlib.pyplot as plt\n",
    "import seaborn as sns"
   ]
  },
  {
   "cell_type": "code",
   "execution_count": 24,
   "id": "a15a40f7-6014-4c23-a573-12b60625e3d6",
   "metadata": {},
   "outputs": [
    {
     "data": {
      "text/plain": [
       "<Figure size 1200x800 with 0 Axes>"
      ]
     },
     "metadata": {},
     "output_type": "display_data"
    },
    {
     "data": {
      "image/png": "[encoded data removed]",
      "text/plain": [
       "<Figure size 600x400 with 1 Axes>"
      ]
     },
     "metadata": {},
     "output_type": "display_data"
    },
    {
     "data": {
      "image/png": "[encoded data removed]",
      "text/plain": [
       "<Figure size 600x400 with 1 Axes>"
      ]
     },
     "metadata": {},
     "output_type": "display_data"
    },
    {
     "data": {
      "image/png": "[encoded data removed]",
      "text/plain": [
       "<Figure size 600x400 with 1 Axes>"
      ]
     },
     "metadata": {},
     "output_type": "display_data"
    },
    {
     "data": {
      "image/png": "[encoded data removed]",
      "text/plain": [
       "<Figure size 600x400 with 1 Axes>"
      ]
     },
     "metadata": {},
     "output_type": "display_data"
    }
   ],
   "source": [
    "plt.figure(figsize=(12, 8))\n",
    "sns.set(style=\"whitegrid\")\n",
    "\n",
    "df_numeric = df.select_dtypes(include=['float64', 'int64'])  \n",
    "for column in df_numeric.columns:\n",
    "    plt.figure(figsize=(6, 4))\n",
    "    sns.boxplot(x=df[column])\n",
    "    plt.title(f'Boxplot for {column}')\n",
    "    plt.show()"
   ]
  },
  {
   "cell_type": "code",
   "execution_count": 25,
   "id": "9e1e0400-b32d-47b5-88a5-4e898903617e",
   "metadata": {},
   "outputs": [],
   "source": [
    "for column in df_numeric.columns:\n",
    "    Q1 = df[column].quantile(0.25)\n",
    "    Q3 = df[column].quantile(0.75)\n",
    "    IQR = Q3 - Q1\n",
    "\n",
    "    lower_bound = Q1 - 1.5 * IQR\n",
    "    upper_bound = Q3 + 1.5 * IQR\n",
    "\n",
    "    df = df[(df[column] >= lower_bound) & (df[column] <= upper_bound)]"
   ]
  },
  {
   "cell_type": "code",
   "execution_count": 26,
   "id": "1cef1f11-ea7c-4bae-b7de-8e5e9df06d57",
   "metadata": {},
   "outputs": [
    {
     "data": {
      "text/plain": [
       "(7876, 7)"
      ]
     },
     "execution_count": 26,
     "metadata": {},
     "output_type": "execute_result"
    }
   ],
   "source": [
    "df.shape"
   ]
  },
  {
   "cell_type": "code",
   "execution_count": 27,
   "id": "6259382b-bfd6-452d-8f06-40f02d1e96d9",
   "metadata": {},
   "outputs": [],
   "source": [
    "df.drop(columns=['price'],inplace=True)"
   ]
  },
  {
   "cell_type": "code",
   "execution_count": 28,
   "id": "9a1555cf-a97b-4f78-a2af-f2473e02bd5d",
   "metadata": {},
   "outputs": [],
   "source": [
    "df.rename(columns={'house_price': 'price'}, inplace=True)"
   ]
  },
  {
   "cell_type": "code",
   "execution_count": 29,
   "id": "0ee47d0f-155f-4f03-bce9-d8df654f437c",
   "metadata": {},
   "outputs": [
    {
     "data": {
      "text/html": [
       "<div>\n",
       "<style scoped>\n",
       "    .dataframe tbody tr th:only-of-type {\n",
       "        vertical-align: middle;\n",
       "    }\n",
       "\n",
       "    .dataframe tbody tr th {\n",
       "        vertical-align: top;\n",
       "    }\n",
       "\n",
       "    .dataframe thead th {\n",
       "        text-align: right;\n",
       "    }\n",
       "</style>\n",
       "<table border=\"1\" class=\"dataframe\">\n",
       "  <thead>\n",
       "    <tr style=\"text-align: right;\">\n",
       "      <th></th>\n",
       "      <th>bedroom</th>\n",
       "      <th>property_type</th>\n",
       "      <th>locality</th>\n",
       "      <th>area</th>\n",
       "      <th>furnish_type</th>\n",
       "      <th>price</th>\n",
       "    </tr>\n",
       "  </thead>\n",
       "  <tbody>\n",
       "    <tr>\n",
       "      <th>0</th>\n",
       "      <td>2</td>\n",
       "      <td>Villa</td>\n",
       "      <td>Sodepur</td>\n",
       "      <td>600</td>\n",
       "      <td>Unfurnished</td>\n",
       "      <td>2400000.0</td>\n",
       "    </tr>\n",
       "    <tr>\n",
       "      <th>1</th>\n",
       "      <td>1</td>\n",
       "      <td>Apartment</td>\n",
       "      <td>south dum dum</td>\n",
       "      <td>150</td>\n",
       "      <td>Furnished</td>\n",
       "      <td>1600000.0</td>\n",
       "    </tr>\n",
       "    <tr>\n",
       "      <th>2</th>\n",
       "      <td>1</td>\n",
       "      <td>Apartment</td>\n",
       "      <td>Sector 22</td>\n",
       "      <td>350</td>\n",
       "      <td>Furnished</td>\n",
       "      <td>2600000.0</td>\n",
       "    </tr>\n",
       "    <tr>\n",
       "      <th>4</th>\n",
       "      <td>3</td>\n",
       "      <td>Independent House</td>\n",
       "      <td>Dhapa</td>\n",
       "      <td>1200</td>\n",
       "      <td>Furnished</td>\n",
       "      <td>10400000.0</td>\n",
       "    </tr>\n",
       "    <tr>\n",
       "      <th>5</th>\n",
       "      <td>2</td>\n",
       "      <td>Independent House</td>\n",
       "      <td>Dum Dum</td>\n",
       "      <td>800</td>\n",
       "      <td>Furnished</td>\n",
       "      <td>4000000.0</td>\n",
       "    </tr>\n",
       "  </tbody>\n",
       "</table>\n",
       "</div>"
      ],
      "text/plain": [
       "   bedroom      property_type       locality  area furnish_type       price\n",
       "0        2              Villa        Sodepur   600  Unfurnished   2400000.0\n",
       "1        1          Apartment  south dum dum   150    Furnished   1600000.0\n",
       "2        1          Apartment      Sector 22   350    Furnished   2600000.0\n",
       "4        3  Independent House          Dhapa  1200    Furnished  10400000.0\n",
       "5        2  Independent House        Dum Dum   800    Furnished   4000000.0"
      ]
     },
     "execution_count": 29,
     "metadata": {},
     "output_type": "execute_result"
    }
   ],
   "source": [
    "df.head()"
   ]
  },
  {
   "cell_type": "code",
   "execution_count": 30,
   "id": "74df883e-2af4-4a77-896c-6ef091500fb7",
   "metadata": {},
   "outputs": [],
   "source": [
    "df = pd.get_dummies(df).astype(int)"
   ]
  },
  {
   "cell_type": "code",
   "execution_count": 31,
   "id": "9a11b6cb-1089-422e-9e99-89d2b8cef1bc",
   "metadata": {},
   "outputs": [],
   "source": [
    "df['price'] = df['price'] / 100000"
   ]
  },
  {
   "cell_type": "code",
   "execution_count": 32,
   "id": "e9dbd981-02fd-4dd8-be2a-9ab7629e8127",
   "metadata": {},
   "outputs": [
    {
     "data": {
      "text/html": [
       "<div>\n",
       "<style scoped>\n",
       "    .dataframe tbody tr th:only-of-type {\n",
       "        vertical-align: middle;\n",
       "    }\n",
       "\n",
       "    .dataframe tbody tr th {\n",
       "        vertical-align: top;\n",
       "    }\n",
       "\n",
       "    .dataframe thead th {\n",
       "        text-align: right;\n",
       "    }\n",
       "</style>\n",
       "<table border=\"1\" class=\"dataframe\">\n",
       "  <thead>\n",
       "    <tr style=\"text-align: right;\">\n",
       "      <th></th>\n",
       "      <th>bedroom</th>\n",
       "      <th>area</th>\n",
       "      <th>price</th>\n",
       "      <th>property_type_Apartment</th>\n",
       "      <th>property_type_Independent House</th>\n",
       "      <th>property_type_Villa</th>\n",
       "      <th>locality_Agarpara</th>\n",
       "      <th>locality_Airport</th>\n",
       "      <th>locality_Alipore</th>\n",
       "      <th>locality_Ariadaha</th>\n",
       "      <th>...</th>\n",
       "      <th>locality_Uttarpara Kotrung</th>\n",
       "      <th>locality_VIP Nagar</th>\n",
       "      <th>locality_birati</th>\n",
       "      <th>locality_deshbandhu nagar</th>\n",
       "      <th>locality_kalikapura</th>\n",
       "      <th>locality_sahakara nagar</th>\n",
       "      <th>locality_salt lake sec iii</th>\n",
       "      <th>locality_south dum dum</th>\n",
       "      <th>furnish_type_Furnished</th>\n",
       "      <th>furnish_type_Unfurnished</th>\n",
       "    </tr>\n",
       "  </thead>\n",
       "  <tbody>\n",
       "    <tr>\n",
       "      <th>0</th>\n",
       "      <td>2</td>\n",
       "      <td>600</td>\n",
       "      <td>24.0</td>\n",
       "      <td>0</td>\n",
       "      <td>0</td>\n",
       "      <td>1</td>\n",
       "      <td>0</td>\n",
       "      <td>0</td>\n",
       "      <td>0</td>\n",
       "      <td>0</td>\n",
       "      <td>...</td>\n",
       "      <td>0</td>\n",
       "      <td>0</td>\n",
       "      <td>0</td>\n",
       "      <td>0</td>\n",
       "      <td>0</td>\n",
       "      <td>0</td>\n",
       "      <td>0</td>\n",
       "      <td>0</td>\n",
       "      <td>0</td>\n",
       "      <td>1</td>\n",
       "    </tr>\n",
       "    <tr>\n",
       "      <th>1</th>\n",
       "      <td>1</td>\n",
       "      <td>150</td>\n",
       "      <td>16.0</td>\n",
       "      <td>1</td>\n",
       "      <td>0</td>\n",
       "      <td>0</td>\n",
       "      <td>0</td>\n",
       "      <td>0</td>\n",
       "      <td>0</td>\n",
       "      <td>0</td>\n",
       "      <td>...</td>\n",
       "      <td>0</td>\n",
       "      <td>0</td>\n",
       "      <td>0</td>\n",
       "      <td>0</td>\n",
       "      <td>0</td>\n",
       "      <td>0</td>\n",
       "      <td>0</td>\n",
       "      <td>1</td>\n",
       "      <td>1</td>\n",
       "      <td>0</td>\n",
       "    </tr>\n",
       "    <tr>\n",
       "      <th>2</th>\n",
       "      <td>1</td>\n",
       "      <td>350</td>\n",
       "      <td>26.0</td>\n",
       "      <td>1</td>\n",
       "      <td>0</td>\n",
       "      <td>0</td>\n",
       "      <td>0</td>\n",
       "      <td>0</td>\n",
       "      <td>0</td>\n",
       "      <td>0</td>\n",
       "      <td>...</td>\n",
       "      <td>0</td>\n",
       "      <td>0</td>\n",
       "      <td>0</td>\n",
       "      <td>0</td>\n",
       "      <td>0</td>\n",
       "      <td>0</td>\n",
       "      <td>0</td>\n",
       "      <td>0</td>\n",
       "      <td>1</td>\n",
       "      <td>0</td>\n",
       "    </tr>\n",
       "    <tr>\n",
       "      <th>4</th>\n",
       "      <td>3</td>\n",
       "      <td>1200</td>\n",
       "      <td>104.0</td>\n",
       "      <td>0</td>\n",
       "      <td>1</td>\n",
       "      <td>0</td>\n",
       "      <td>0</td>\n",
       "      <td>0</td>\n",
       "      <td>0</td>\n",
       "      <td>0</td>\n",
       "      <td>...</td>\n",
       "      <td>0</td>\n",
       "      <td>0</td>\n",
       "      <td>0</td>\n",
       "      <td>0</td>\n",
       "      <td>0</td>\n",
       "      <td>0</td>\n",
       "      <td>0</td>\n",
       "      <td>0</td>\n",
       "      <td>1</td>\n",
       "      <td>0</td>\n",
       "    </tr>\n",
       "    <tr>\n",
       "      <th>5</th>\n",
       "      <td>2</td>\n",
       "      <td>800</td>\n",
       "      <td>40.0</td>\n",
       "      <td>0</td>\n",
       "      <td>1</td>\n",
       "      <td>0</td>\n",
       "      <td>0</td>\n",
       "      <td>0</td>\n",
       "      <td>0</td>\n",
       "      <td>0</td>\n",
       "      <td>...</td>\n",
       "      <td>0</td>\n",
       "      <td>0</td>\n",
       "      <td>0</td>\n",
       "      <td>0</td>\n",
       "      <td>0</td>\n",
       "      <td>0</td>\n",
       "      <td>0</td>\n",
       "      <td>0</td>\n",
       "      <td>1</td>\n",
       "      <td>0</td>\n",
       "    </tr>\n",
       "  </tbody>\n",
       "</table>\n",
       "<p>5 rows × 127 columns</p>\n",
       "</div>"
      ],
      "text/plain": [
       "   bedroom  area  price  property_type_Apartment  \\\n",
       "0        2   600   24.0                        0   \n",
       "1        1   150   16.0                        1   \n",
       "2        1   350   26.0                        1   \n",
       "4        3  1200  104.0                        0   \n",
       "5        2   800   40.0                        0   \n",
       "\n",
       "   property_type_Independent House  property_type_Villa  locality_Agarpara  \\\n",
       "0                                0                    1                  0   \n",
       "1                                0                    0                  0   \n",
       "2                                0                    0                  0   \n",
       "4                                1                    0                  0   \n",
       "5                                1                    0                  0   \n",
       "\n",
       "   locality_Airport  locality_Alipore  locality_Ariadaha  ...  \\\n",
       "0                 0                 0                  0  ...   \n",
       "1                 0                 0                  0  ...   \n",
       "2                 0                 0                  0  ...   \n",
       "4                 0                 0                  0  ...   \n",
       "5                 0                 0                  0  ...   \n",
       "\n",
       "   locality_Uttarpara Kotrung  locality_VIP Nagar  locality_birati  \\\n",
       "0                           0                   0                0   \n",
       "1                           0                   0                0   \n",
       "2                           0                   0                0   \n",
       "4                           0                   0                0   \n",
       "5                           0                   0                0   \n",
       "\n",
       "   locality_deshbandhu nagar  locality_kalikapura  locality_sahakara nagar  \\\n",
       "0                          0                    0                        0   \n",
       "1                          0                    0                        0   \n",
       "2                          0                    0                        0   \n",
       "4                          0                    0                        0   \n",
       "5                          0                    0                        0   \n",
       "\n",
       "   locality_salt lake sec iii  locality_south dum dum  furnish_type_Furnished  \\\n",
       "0                           0                       0                       0   \n",
       "1                           0                       1                       1   \n",
       "2                           0                       0                       1   \n",
       "4                           0                       0                       1   \n",
       "5                           0                       0                       1   \n",
       "\n",
       "   furnish_type_Unfurnished  \n",
       "0                         1  \n",
       "1                         0  \n",
       "2                         0  \n",
       "4                         0  \n",
       "5                         0  \n",
       "\n",
       "[5 rows x 127 columns]"
      ]
     },
     "execution_count": 32,
     "metadata": {},
     "output_type": "execute_result"
    }
   ],
   "source": [
    "df.head()"
   ]
  },
  {
   "cell_type": "code",
   "execution_count": 33,
   "id": "40f0562d-de85-4e1e-8899-50fc97736925",
   "metadata": {},
   "outputs": [
    {
     "data": {
      "text/plain": [
       "(7876, 127)"
      ]
     },
     "execution_count": 33,
     "metadata": {},
     "output_type": "execute_result"
    }
   ],
   "source": [
    "df.shape"
   ]
  },
  {
   "cell_type": "code",
   "execution_count": 34,
   "id": "280b76f5-c727-43f0-bdfb-3c9fc3e21d28",
   "metadata": {},
   "outputs": [],
   "source": [
    "df.columns = df.columns.str.lower()"
   ]
  },
  {
   "cell_type": "code",
   "execution_count": 35,
   "id": "fcb3143b-00db-45c9-9660-0fae129ded29",
   "metadata": {},
   "outputs": [
    {
     "data": {
      "text/html": [
       "<div>\n",
       "<style scoped>\n",
       "    .dataframe tbody tr th:only-of-type {\n",
       "        vertical-align: middle;\n",
       "    }\n",
       "\n",
       "    .dataframe tbody tr th {\n",
       "        vertical-align: top;\n",
       "    }\n",
       "\n",
       "    .dataframe thead th {\n",
       "        text-align: right;\n",
       "    }\n",
       "</style>\n",
       "<table border=\"1\" class=\"dataframe\">\n",
       "  <thead>\n",
       "    <tr style=\"text-align: right;\">\n",
       "      <th></th>\n",
       "      <th>bedroom</th>\n",
       "      <th>area</th>\n",
       "      <th>price</th>\n",
       "      <th>property_type_apartment</th>\n",
       "      <th>property_type_independent house</th>\n",
       "      <th>property_type_villa</th>\n",
       "      <th>locality_agarpara</th>\n",
       "      <th>locality_airport</th>\n",
       "      <th>locality_alipore</th>\n",
       "      <th>locality_ariadaha</th>\n",
       "      <th>...</th>\n",
       "      <th>locality_uttarpara kotrung</th>\n",
       "      <th>locality_vip nagar</th>\n",
       "      <th>locality_birati</th>\n",
       "      <th>locality_deshbandhu nagar</th>\n",
       "      <th>locality_kalikapura</th>\n",
       "      <th>locality_sahakara nagar</th>\n",
       "      <th>locality_salt lake sec iii</th>\n",
       "      <th>locality_south dum dum</th>\n",
       "      <th>furnish_type_furnished</th>\n",
       "      <th>furnish_type_unfurnished</th>\n",
       "    </tr>\n",
       "  </thead>\n",
       "  <tbody>\n",
       "    <tr>\n",
       "      <th>0</th>\n",
       "      <td>2</td>\n",
       "      <td>600</td>\n",
       "      <td>24.0</td>\n",
       "      <td>0</td>\n",
       "      <td>0</td>\n",
       "      <td>1</td>\n",
       "      <td>0</td>\n",
       "      <td>0</td>\n",
       "      <td>0</td>\n",
       "      <td>0</td>\n",
       "      <td>...</td>\n",
       "      <td>0</td>\n",
       "      <td>0</td>\n",
       "      <td>0</td>\n",
       "      <td>0</td>\n",
       "      <td>0</td>\n",
       "      <td>0</td>\n",
       "      <td>0</td>\n",
       "      <td>0</td>\n",
       "      <td>0</td>\n",
       "      <td>1</td>\n",
       "    </tr>\n",
       "    <tr>\n",
       "      <th>1</th>\n",
       "      <td>1</td>\n",
       "      <td>150</td>\n",
       "      <td>16.0</td>\n",
       "      <td>1</td>\n",
       "      <td>0</td>\n",
       "      <td>0</td>\n",
       "      <td>0</td>\n",
       "      <td>0</td>\n",
       "      <td>0</td>\n",
       "      <td>0</td>\n",
       "      <td>...</td>\n",
       "      <td>0</td>\n",
       "      <td>0</td>\n",
       "      <td>0</td>\n",
       "      <td>0</td>\n",
       "      <td>0</td>\n",
       "      <td>0</td>\n",
       "      <td>0</td>\n",
       "      <td>1</td>\n",
       "      <td>1</td>\n",
       "      <td>0</td>\n",
       "    </tr>\n",
       "    <tr>\n",
       "      <th>2</th>\n",
       "      <td>1</td>\n",
       "      <td>350</td>\n",
       "      <td>26.0</td>\n",
       "      <td>1</td>\n",
       "      <td>0</td>\n",
       "      <td>0</td>\n",
       "      <td>0</td>\n",
       "      <td>0</td>\n",
       "      <td>0</td>\n",
       "      <td>0</td>\n",
       "      <td>...</td>\n",
       "      <td>0</td>\n",
       "      <td>0</td>\n",
       "      <td>0</td>\n",
       "      <td>0</td>\n",
       "      <td>0</td>\n",
       "      <td>0</td>\n",
       "      <td>0</td>\n",
       "      <td>0</td>\n",
       "      <td>1</td>\n",
       "      <td>0</td>\n",
       "    </tr>\n",
       "    <tr>\n",
       "      <th>4</th>\n",
       "      <td>3</td>\n",
       "      <td>1200</td>\n",
       "      <td>104.0</td>\n",
       "      <td>0</td>\n",
       "      <td>1</td>\n",
       "      <td>0</td>\n",
       "      <td>0</td>\n",
       "      <td>0</td>\n",
       "      <td>0</td>\n",
       "      <td>0</td>\n",
       "      <td>...</td>\n",
       "      <td>0</td>\n",
       "      <td>0</td>\n",
       "      <td>0</td>\n",
       "      <td>0</td>\n",
       "      <td>0</td>\n",
       "      <td>0</td>\n",
       "      <td>0</td>\n",
       "      <td>0</td>\n",
       "      <td>1</td>\n",
       "      <td>0</td>\n",
       "    </tr>\n",
       "    <tr>\n",
       "      <th>5</th>\n",
       "      <td>2</td>\n",
       "      <td>800</td>\n",
       "      <td>40.0</td>\n",
       "      <td>0</td>\n",
       "      <td>1</td>\n",
       "      <td>0</td>\n",
       "      <td>0</td>\n",
       "      <td>0</td>\n",
       "      <td>0</td>\n",
       "      <td>0</td>\n",
       "      <td>...</td>\n",
       "      <td>0</td>\n",
       "      <td>0</td>\n",
       "      <td>0</td>\n",
       "      <td>0</td>\n",
       "      <td>0</td>\n",
       "      <td>0</td>\n",
       "      <td>0</td>\n",
       "      <td>0</td>\n",
       "      <td>1</td>\n",
       "      <td>0</td>\n",
       "    </tr>\n",
       "  </tbody>\n",
       "</table>\n",
       "<p>5 rows × 127 columns</p>\n",
       "</div>"
      ],
      "text/plain": [
       "   bedroom  area  price  property_type_apartment  \\\n",
       "0        2   600   24.0                        0   \n",
       "1        1   150   16.0                        1   \n",
       "2        1   350   26.0                        1   \n",
       "4        3  1200  104.0                        0   \n",
       "5        2   800   40.0                        0   \n",
       "\n",
       "   property_type_independent house  property_type_villa  locality_agarpara  \\\n",
       "0                                0                    1                  0   \n",
       "1                                0                    0                  0   \n",
       "2                                0                    0                  0   \n",
       "4                                1                    0                  0   \n",
       "5                                1                    0                  0   \n",
       "\n",
       "   locality_airport  locality_alipore  locality_ariadaha  ...  \\\n",
       "0                 0                 0                  0  ...   \n",
       "1                 0                 0                  0  ...   \n",
       "2                 0                 0                  0  ...   \n",
       "4                 0                 0                  0  ...   \n",
       "5                 0                 0                  0  ...   \n",
       "\n",
       "   locality_uttarpara kotrung  locality_vip nagar  locality_birati  \\\n",
       "0                           0                   0                0   \n",
       "1                           0                   0                0   \n",
       "2                           0                   0                0   \n",
       "4                           0                   0                0   \n",
       "5                           0                   0                0   \n",
       "\n",
       "   locality_deshbandhu nagar  locality_kalikapura  locality_sahakara nagar  \\\n",
       "0                          0                    0                        0   \n",
       "1                          0                    0                        0   \n",
       "2                          0                    0                        0   \n",
       "4                          0                    0                        0   \n",
       "5                          0                    0                        0   \n",
       "\n",
       "   locality_salt lake sec iii  locality_south dum dum  furnish_type_furnished  \\\n",
       "0                           0                       0                       0   \n",
       "1                           0                       1                       1   \n",
       "2                           0                       0                       1   \n",
       "4                           0                       0                       1   \n",
       "5                           0                       0                       1   \n",
       "\n",
       "   furnish_type_unfurnished  \n",
       "0                         1  \n",
       "1                         0  \n",
       "2                         0  \n",
       "4                         0  \n",
       "5                         0  \n",
       "\n",
       "[5 rows x 127 columns]"
      ]
     },
     "execution_count": 35,
     "metadata": {},
     "output_type": "execute_result"
    }
   ],
   "source": [
    "df.head()"
   ]
  },
  {
   "cell_type": "code",
   "execution_count": 36,
   "id": "e0057584-1b79-4530-9edf-b2f962b3c22a",
   "metadata": {},
   "outputs": [],
   "source": [
    "target=df.price\n",
    "df.drop(columns=['price'],inplace=True)"
   ]
  },
  {
   "cell_type": "code",
   "execution_count": 37,
   "id": "944d11cd-6269-4832-a897-b4d3fe72f8c0",
   "metadata": {},
   "outputs": [],
   "source": [
    "from sklearn.model_selection import train_test_split\n",
    "X_train, X_test, y_train, y_test = train_test_split(df,target,test_size=0.2,random_state=10)"
   ]
  },
  {
   "cell_type": "code",
   "execution_count": 38,
   "id": "0e5cf1af-a8c1-4053-8e16-e77407e35927",
   "metadata": {},
   "outputs": [
    {
     "data": {
      "text/plain": [
       "0.6638134034019689"
      ]
     },
     "execution_count": 38,
     "metadata": {},
     "output_type": "execute_result"
    }
   ],
   "source": [
    "from sklearn.linear_model import LinearRegression\n",
    "lr_clf = LinearRegression()\n",
    "lr_clf.fit(X_train,y_train)\n",
    "lr_clf.score(X_test,y_test)"
   ]
  },
  {
   "cell_type": "code",
   "execution_count": 39,
   "id": "7b166460-0c6e-4987-a768-1d9f82c26c60",
   "metadata": {},
   "outputs": [
    {
     "data": {
      "text/plain": [
       "array([0.64779737, 0.66989095, 0.64841553, 0.66816872, 0.64338907])"
      ]
     },
     "execution_count": 39,
     "metadata": {},
     "output_type": "execute_result"
    }
   ],
   "source": [
    "from sklearn.model_selection import ShuffleSplit\n",
    "from sklearn.model_selection import cross_val_score\n",
    "\n",
    "cv = ShuffleSplit(n_splits=5, test_size=0.2, random_state=0)\n",
    "\n",
    "cross_val_score(LinearRegression(), df,target, cv=cv)"
   ]
  },
  {
   "cell_type": "code",
   "execution_count": 40,
   "id": "865efe84-dcd4-4f78-b8ef-d1f20acf1452",
   "metadata": {},
   "outputs": [
    {
     "data": {
      "text/html": [
       "<div>\n",
       "<style scoped>\n",
       "    .dataframe tbody tr th:only-of-type {\n",
       "        vertical-align: middle;\n",
       "    }\n",
       "\n",
       "    .dataframe tbody tr th {\n",
       "        vertical-align: top;\n",
       "    }\n",
       "\n",
       "    .dataframe thead th {\n",
       "        text-align: right;\n",
       "    }\n",
       "</style>\n",
       "<table border=\"1\" class=\"dataframe\">\n",
       "  <thead>\n",
       "    <tr style=\"text-align: right;\">\n",
       "      <th></th>\n",
       "      <th>model</th>\n",
       "      <th>best_score</th>\n",
       "      <th>best_params</th>\n",
       "    </tr>\n",
       "  </thead>\n",
       "  <tbody>\n",
       "    <tr>\n",
       "      <th>0</th>\n",
       "      <td>linear_regression</td>\n",
       "      <td>0.655532</td>\n",
       "      <td>{'fit_intercept': False}</td>\n",
       "    </tr>\n",
       "    <tr>\n",
       "      <th>1</th>\n",
       "      <td>lasso</td>\n",
       "      <td>0.594764</td>\n",
       "      <td>{'alpha': 0.1, 'selection': 'random'}</td>\n",
       "    </tr>\n",
       "    <tr>\n",
       "      <th>2</th>\n",
       "      <td>decision_tree</td>\n",
       "      <td>0.684845</td>\n",
       "      <td>{'criterion': 'friedman_mse', 'splitter': 'ran...</td>\n",
       "    </tr>\n",
       "  </tbody>\n",
       "</table>\n",
       "</div>"
      ],
      "text/plain": [
       "               model  best_score  \\\n",
       "0  linear_regression    0.655532   \n",
       "1              lasso    0.594764   \n",
       "2      decision_tree    0.684845   \n",
       "\n",
       "                                         best_params  \n",
       "0                           {'fit_intercept': False}  \n",
       "1              {'alpha': 0.1, 'selection': 'random'}  \n",
       "2  {'criterion': 'friedman_mse', 'splitter': 'ran...  "
      ]
     },
     "execution_count": 40,
     "metadata": {},
     "output_type": "execute_result"
    }
   ],
   "source": [
    "from sklearn.model_selection import GridSearchCV, ShuffleSplit\n",
    "from sklearn.linear_model import LinearRegression, Lasso\n",
    "from sklearn.tree import DecisionTreeRegressor\n",
    "\n",
    "def find_best_model_using_gridsearchcv(X, y):\n",
    "    algos = {\n",
    "        'linear_regression': {\n",
    "            'model': LinearRegression(),\n",
    "            'params': {\n",
    "                'fit_intercept': [True, False]\n",
    "            }\n",
    "        },\n",
    "        'lasso': {\n",
    "            'model': Lasso(),\n",
    "            'params': {\n",
    "                'alpha': [0.1, 1, 10],\n",
    "                'selection': ['random', 'cyclic']\n",
    "            }\n",
    "        },\n",
    "        'decision_tree': {\n",
    "            'model': DecisionTreeRegressor(),\n",
    "            'params': {\n",
    "                'criterion': ['squared_error', 'friedman_mse'],\n",
    "                'splitter': ['best', 'random']\n",
    "            }\n",
    "        }\n",
    "    }\n",
    "    \n",
    "    scores = []\n",
    "    cv = ShuffleSplit(n_splits=5, test_size=0.2, random_state=0)\n",
    "    \n",
    "    for algo_name, config in algos.items():\n",
    "        gs = GridSearchCV(config['model'], config['params'], cv=cv, return_train_score=False)\n",
    "        gs.fit(X, y)\n",
    "        scores.append({\n",
    "            'model': algo_name,\n",
    "            'best_score': gs.best_score_,\n",
    "            'best_params': gs.best_params_\n",
    "        })\n",
    "\n",
    "    return pd.DataFrame(scores, columns=['model', 'best_score', 'best_params'])\n",
    "find_best_model_using_gridsearchcv(df,target)"
   ]
  },
  {
   "cell_type": "code",
   "execution_count": 41,
   "id": "77bb05da-a404-4324-8249-5ecfd5a68f93",
   "metadata": {},
   "outputs": [
    {
     "data": {
      "text/plain": [
       "0.9400671342168835"
      ]
     },
     "execution_count": 41,
     "metadata": {},
     "output_type": "execute_result"
    }
   ],
   "source": [
    "model = DecisionTreeRegressor(criterion= 'friedman_mse',splitter='random')\n",
    "model.fit(df,target)\n",
    "model.score(X_test, y_test)"
   ]
  },
  {
   "cell_type": "code",
   "execution_count": 42,
   "id": "df3c2d01-f2b6-4360-9337-72c6c5208348",
   "metadata": {},
   "outputs": [],
   "source": [
    "import pickle\n",
    "with open('Kolkata_model.pickle','wb') as f:\n",
    "    pickle.dump(model,f)"
   ]
  },
  {
   "cell_type": "code",
   "execution_count": 43,
   "id": "b677d947-aa4d-437a-a03d-f400b3ad93c4",
   "metadata": {},
   "outputs": [],
   "source": [
    "import json\n",
    "columns = {\n",
    "    'data_columns' : [col.lower() for col in df.columns]\n",
    "}\n",
    "with open(\"Kolkata_columns.json\",\"w\") as f:\n",
    "    f.write(json.dumps(columns))"
   ]
  },
  {
   "cell_type": "code",
   "execution_count": null,
   "id": "5156ee29-7b72-45f0-9f6f-f1058782b0be",
   "metadata": {},
   "outputs": [],
   "source": []
  }
 ],
 "metadata": {
  "kernelspec": {
   "display_name": "Python 3 (ipykernel)",
   "language": "python",
   "name": "python3"
  },
  "language_info": {
   "codemirror_mode": {
    "name": "ipython",
    "version": 3
   },
   "file_extension": ".py",
   "mimetype": "text/x-python",
   "name": "python",
   "nbconvert_exporter": "python",
   "pygments_lexer": "ipython3",
   "version": "3.12.7"
  }
 },
 "nbformat": 4,
 "nbformat_minor": 5
}
