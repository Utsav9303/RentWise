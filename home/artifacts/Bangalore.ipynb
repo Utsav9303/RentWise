{
 "cells": [
  {
   "cell_type": "code",
   "execution_count": 2,
   "id": "acfa4efb-64bc-4927-82db-6ca39c6e849f",
   "metadata": {},
   "outputs": [],
   "source": [
    "import numpy as np \n",
    "import pandas as pd"
   ]
  },
  {
   "cell_type": "code",
   "execution_count": 3,
   "id": "c0195762-aeec-4e31-95bb-b4bea5500302",
   "metadata": {},
   "outputs": [
    {
     "data": {
      "text/html": [
       "<div>\n",
       "<style scoped>\n",
       "    .dataframe tbody tr th:only-of-type {\n",
       "        vertical-align: middle;\n",
       "    }\n",
       "\n",
       "    .dataframe tbody tr th {\n",
       "        vertical-align: top;\n",
       "    }\n",
       "\n",
       "    .dataframe thead th {\n",
       "        text-align: right;\n",
       "    }\n",
       "</style>\n",
       "<table border=\"1\" class=\"dataframe\">\n",
       "  <thead>\n",
       "    <tr style=\"text-align: right;\">\n",
       "      <th></th>\n",
       "      <th>seller_type</th>\n",
       "      <th>bedroom</th>\n",
       "      <th>layout_type</th>\n",
       "      <th>property_type</th>\n",
       "      <th>locality</th>\n",
       "      <th>price</th>\n",
       "      <th>area</th>\n",
       "      <th>furnish_type</th>\n",
       "      <th>bathroom</th>\n",
       "    </tr>\n",
       "  </thead>\n",
       "  <tbody>\n",
       "    <tr>\n",
       "      <th>0</th>\n",
       "      <td>OWNER</td>\n",
       "      <td>2</td>\n",
       "      <td>BHK</td>\n",
       "      <td>Independent Floor</td>\n",
       "      <td>kamakshipalya</td>\n",
       "      <td>20,000</td>\n",
       "      <td>1140</td>\n",
       "      <td>Semi-Furnished</td>\n",
       "      <td>2 bathrooms</td>\n",
       "    </tr>\n",
       "    <tr>\n",
       "      <th>1</th>\n",
       "      <td>OWNER</td>\n",
       "      <td>2</td>\n",
       "      <td>BHK</td>\n",
       "      <td>Independent House</td>\n",
       "      <td>Kadugodi Industrial Area</td>\n",
       "      <td>8,000</td>\n",
       "      <td>840</td>\n",
       "      <td>Semi-Furnished</td>\n",
       "      <td>2 bathrooms</td>\n",
       "    </tr>\n",
       "    <tr>\n",
       "      <th>2</th>\n",
       "      <td>OWNER</td>\n",
       "      <td>2</td>\n",
       "      <td>BHK</td>\n",
       "      <td>Independent House</td>\n",
       "      <td>Koramangala</td>\n",
       "      <td>21,000</td>\n",
       "      <td>1000</td>\n",
       "      <td>Semi-Furnished</td>\n",
       "      <td>2 bathrooms</td>\n",
       "    </tr>\n",
       "    <tr>\n",
       "      <th>3</th>\n",
       "      <td>OWNER</td>\n",
       "      <td>1</td>\n",
       "      <td>BHK</td>\n",
       "      <td>Apartment</td>\n",
       "      <td>Sadduguntepalya</td>\n",
       "      <td>9,000</td>\n",
       "      <td>550</td>\n",
       "      <td>Semi-Furnished</td>\n",
       "      <td>1 bathrooms</td>\n",
       "    </tr>\n",
       "    <tr>\n",
       "      <th>4</th>\n",
       "      <td>OWNER</td>\n",
       "      <td>3</td>\n",
       "      <td>BHK</td>\n",
       "      <td>Apartment</td>\n",
       "      <td>Chandapura</td>\n",
       "      <td>17,000</td>\n",
       "      <td>1230</td>\n",
       "      <td>Furnished</td>\n",
       "      <td>3 bathrooms</td>\n",
       "    </tr>\n",
       "  </tbody>\n",
       "</table>\n",
       "</div>"
      ],
      "text/plain": [
       "  seller_type  bedroom layout_type      property_type  \\\n",
       "0       OWNER        2         BHK  Independent Floor   \n",
       "1       OWNER        2         BHK  Independent House   \n",
       "2       OWNER        2         BHK  Independent House   \n",
       "3       OWNER        1         BHK          Apartment   \n",
       "4       OWNER        3         BHK          Apartment   \n",
       "\n",
       "                   locality   price  area    furnish_type     bathroom  \n",
       "0             kamakshipalya  20,000  1140  Semi-Furnished  2 bathrooms  \n",
       "1  Kadugodi Industrial Area   8,000   840  Semi-Furnished  2 bathrooms  \n",
       "2               Koramangala  21,000  1000  Semi-Furnished  2 bathrooms  \n",
       "3           Sadduguntepalya   9,000   550  Semi-Furnished  1 bathrooms  \n",
       "4                Chandapura  17,000  1230       Furnished  3 bathrooms  "
      ]
     },
     "execution_count": 3,
     "metadata": {},
     "output_type": "execute_result"
    }
   ],
   "source": [
    "df=pd.read_csv('./datasets/Bangalore_rent.csv')\n",
    "df.head()"
   ]
  },
  {
   "cell_type": "code",
   "execution_count": 4,
   "id": "dfac0647-684f-469f-a8aa-953fd2777128",
   "metadata": {},
   "outputs": [
    {
     "data": {
      "text/html": [
       "<div>\n",
       "<style scoped>\n",
       "    .dataframe tbody tr th:only-of-type {\n",
       "        vertical-align: middle;\n",
       "    }\n",
       "\n",
       "    .dataframe tbody tr th {\n",
       "        vertical-align: top;\n",
       "    }\n",
       "\n",
       "    .dataframe thead th {\n",
       "        text-align: right;\n",
       "    }\n",
       "</style>\n",
       "<table border=\"1\" class=\"dataframe\">\n",
       "  <thead>\n",
       "    <tr style=\"text-align: right;\">\n",
       "      <th></th>\n",
       "      <th>bedroom</th>\n",
       "      <th>property_type</th>\n",
       "      <th>locality</th>\n",
       "      <th>price</th>\n",
       "      <th>area</th>\n",
       "      <th>furnish_type</th>\n",
       "    </tr>\n",
       "  </thead>\n",
       "  <tbody>\n",
       "    <tr>\n",
       "      <th>0</th>\n",
       "      <td>2</td>\n",
       "      <td>Independent Floor</td>\n",
       "      <td>kamakshipalya</td>\n",
       "      <td>20,000</td>\n",
       "      <td>1140</td>\n",
       "      <td>Semi-Furnished</td>\n",
       "    </tr>\n",
       "    <tr>\n",
       "      <th>1</th>\n",
       "      <td>2</td>\n",
       "      <td>Independent House</td>\n",
       "      <td>Kadugodi Industrial Area</td>\n",
       "      <td>8,000</td>\n",
       "      <td>840</td>\n",
       "      <td>Semi-Furnished</td>\n",
       "    </tr>\n",
       "    <tr>\n",
       "      <th>2</th>\n",
       "      <td>2</td>\n",
       "      <td>Independent House</td>\n",
       "      <td>Koramangala</td>\n",
       "      <td>21,000</td>\n",
       "      <td>1000</td>\n",
       "      <td>Semi-Furnished</td>\n",
       "    </tr>\n",
       "    <tr>\n",
       "      <th>3</th>\n",
       "      <td>1</td>\n",
       "      <td>Apartment</td>\n",
       "      <td>Sadduguntepalya</td>\n",
       "      <td>9,000</td>\n",
       "      <td>550</td>\n",
       "      <td>Semi-Furnished</td>\n",
       "    </tr>\n",
       "    <tr>\n",
       "      <th>4</th>\n",
       "      <td>3</td>\n",
       "      <td>Apartment</td>\n",
       "      <td>Chandapura</td>\n",
       "      <td>17,000</td>\n",
       "      <td>1230</td>\n",
       "      <td>Furnished</td>\n",
       "    </tr>\n",
       "  </tbody>\n",
       "</table>\n",
       "</div>"
      ],
      "text/plain": [
       "   bedroom      property_type                  locality   price  area  \\\n",
       "0        2  Independent Floor             kamakshipalya  20,000  1140   \n",
       "1        2  Independent House  Kadugodi Industrial Area   8,000   840   \n",
       "2        2  Independent House               Koramangala  21,000  1000   \n",
       "3        1          Apartment           Sadduguntepalya   9,000   550   \n",
       "4        3          Apartment                Chandapura  17,000  1230   \n",
       "\n",
       "     furnish_type  \n",
       "0  Semi-Furnished  \n",
       "1  Semi-Furnished  \n",
       "2  Semi-Furnished  \n",
       "3  Semi-Furnished  \n",
       "4       Furnished  "
      ]
     },
     "execution_count": 4,
     "metadata": {},
     "output_type": "execute_result"
    }
   ],
   "source": [
    "df.drop(columns=['seller_type','layout_type','bathroom'],inplace=True)\n",
    "df.head()"
   ]
  },
  {
   "cell_type": "code",
   "execution_count": 5,
   "id": "4a2295c2-97c2-4a3a-b60d-ee1413a758ba",
   "metadata": {},
   "outputs": [
    {
     "data": {
      "text/plain": [
       "(23540, 6)"
      ]
     },
     "execution_count": 5,
     "metadata": {},
     "output_type": "execute_result"
    }
   ],
   "source": [
    "df.shape"
   ]
  },
  {
   "cell_type": "code",
   "execution_count": 6,
   "id": "1c0174b6-b232-448c-88a3-4bb56399b9e7",
   "metadata": {},
   "outputs": [
    {
     "data": {
      "text/plain": [
       "bedroom          0\n",
       "property_type    0\n",
       "locality         0\n",
       "price            0\n",
       "area             0\n",
       "furnish_type     0\n",
       "dtype: int64"
      ]
     },
     "execution_count": 6,
     "metadata": {},
     "output_type": "execute_result"
    }
   ],
   "source": [
    "df.isnull().sum()"
   ]
  },
  {
   "cell_type": "code",
   "execution_count": 7,
   "id": "730be567-3775-42d1-9bb0-97ba038016a1",
   "metadata": {},
   "outputs": [],
   "source": [
    "df['price'] = df['price'].str.replace(r'[^\\d.]+', '', regex=True)"
   ]
  },
  {
   "cell_type": "code",
   "execution_count": 8,
   "id": "44d8798b-5350-4cb0-ac83-d8d02352aa42",
   "metadata": {},
   "outputs": [],
   "source": [
    "df['price'] = pd.to_numeric(df['price'], errors='coerce')"
   ]
  },
  {
   "cell_type": "code",
   "execution_count": 9,
   "id": "cb02330c-263f-4f1f-9008-2ad4f2b3074e",
   "metadata": {},
   "outputs": [
    {
     "data": {
      "text/html": [
       "<div>\n",
       "<style scoped>\n",
       "    .dataframe tbody tr th:only-of-type {\n",
       "        vertical-align: middle;\n",
       "    }\n",
       "\n",
       "    .dataframe tbody tr th {\n",
       "        vertical-align: top;\n",
       "    }\n",
       "\n",
       "    .dataframe thead th {\n",
       "        text-align: right;\n",
       "    }\n",
       "</style>\n",
       "<table border=\"1\" class=\"dataframe\">\n",
       "  <thead>\n",
       "    <tr style=\"text-align: right;\">\n",
       "      <th></th>\n",
       "      <th>bedroom</th>\n",
       "      <th>property_type</th>\n",
       "      <th>locality</th>\n",
       "      <th>price</th>\n",
       "      <th>area</th>\n",
       "      <th>furnish_type</th>\n",
       "    </tr>\n",
       "  </thead>\n",
       "  <tbody>\n",
       "    <tr>\n",
       "      <th>0</th>\n",
       "      <td>2</td>\n",
       "      <td>Independent Floor</td>\n",
       "      <td>kamakshipalya</td>\n",
       "      <td>20000.0</td>\n",
       "      <td>1140</td>\n",
       "      <td>Semi-Furnished</td>\n",
       "    </tr>\n",
       "    <tr>\n",
       "      <th>1</th>\n",
       "      <td>2</td>\n",
       "      <td>Independent House</td>\n",
       "      <td>Kadugodi Industrial Area</td>\n",
       "      <td>8000.0</td>\n",
       "      <td>840</td>\n",
       "      <td>Semi-Furnished</td>\n",
       "    </tr>\n",
       "    <tr>\n",
       "      <th>2</th>\n",
       "      <td>2</td>\n",
       "      <td>Independent House</td>\n",
       "      <td>Koramangala</td>\n",
       "      <td>21000.0</td>\n",
       "      <td>1000</td>\n",
       "      <td>Semi-Furnished</td>\n",
       "    </tr>\n",
       "    <tr>\n",
       "      <th>3</th>\n",
       "      <td>1</td>\n",
       "      <td>Apartment</td>\n",
       "      <td>Sadduguntepalya</td>\n",
       "      <td>9000.0</td>\n",
       "      <td>550</td>\n",
       "      <td>Semi-Furnished</td>\n",
       "    </tr>\n",
       "    <tr>\n",
       "      <th>4</th>\n",
       "      <td>3</td>\n",
       "      <td>Apartment</td>\n",
       "      <td>Chandapura</td>\n",
       "      <td>17000.0</td>\n",
       "      <td>1230</td>\n",
       "      <td>Furnished</td>\n",
       "    </tr>\n",
       "  </tbody>\n",
       "</table>\n",
       "</div>"
      ],
      "text/plain": [
       "   bedroom      property_type                  locality    price  area  \\\n",
       "0        2  Independent Floor             kamakshipalya  20000.0  1140   \n",
       "1        2  Independent House  Kadugodi Industrial Area   8000.0   840   \n",
       "2        2  Independent House               Koramangala  21000.0  1000   \n",
       "3        1          Apartment           Sadduguntepalya   9000.0   550   \n",
       "4        3          Apartment                Chandapura  17000.0  1230   \n",
       "\n",
       "     furnish_type  \n",
       "0  Semi-Furnished  \n",
       "1  Semi-Furnished  \n",
       "2  Semi-Furnished  \n",
       "3  Semi-Furnished  \n",
       "4       Furnished  "
      ]
     },
     "execution_count": 9,
     "metadata": {},
     "output_type": "execute_result"
    }
   ],
   "source": [
    "df.head()"
   ]
  },
  {
   "cell_type": "code",
   "execution_count": 10,
   "id": "aca90c2b-87b3-4d52-baa2-01e64d821669",
   "metadata": {},
   "outputs": [
    {
     "name": "stdout",
     "output_type": "stream",
     "text": [
      "<class 'pandas.core.frame.DataFrame'>\n",
      "RangeIndex: 23540 entries, 0 to 23539\n",
      "Data columns (total 6 columns):\n",
      " #   Column         Non-Null Count  Dtype  \n",
      "---  ------         --------------  -----  \n",
      " 0   bedroom        23540 non-null  int64  \n",
      " 1   property_type  23540 non-null  object \n",
      " 2   locality       23540 non-null  object \n",
      " 3   price          23540 non-null  float64\n",
      " 4   area           23540 non-null  int64  \n",
      " 5   furnish_type   23540 non-null  object \n",
      "dtypes: float64(1), int64(2), object(3)\n",
      "memory usage: 1.1+ MB\n"
     ]
    }
   ],
   "source": [
    "df.info()"
   ]
  },
  {
   "cell_type": "code",
   "execution_count": 11,
   "id": "a774766d-54c7-4ca3-a5c0-6d676e62137a",
   "metadata": {},
   "outputs": [],
   "source": [
    "df[\"house_price\"] = (df[\"price\"] * 12 * 100) / 3"
   ]
  },
  {
   "cell_type": "code",
   "execution_count": 12,
   "id": "c2999d19-56ba-4569-afbf-b0f5915e578c",
   "metadata": {},
   "outputs": [
    {
     "data": {
      "text/html": [
       "<div>\n",
       "<style scoped>\n",
       "    .dataframe tbody tr th:only-of-type {\n",
       "        vertical-align: middle;\n",
       "    }\n",
       "\n",
       "    .dataframe tbody tr th {\n",
       "        vertical-align: top;\n",
       "    }\n",
       "\n",
       "    .dataframe thead th {\n",
       "        text-align: right;\n",
       "    }\n",
       "</style>\n",
       "<table border=\"1\" class=\"dataframe\">\n",
       "  <thead>\n",
       "    <tr style=\"text-align: right;\">\n",
       "      <th></th>\n",
       "      <th>bedroom</th>\n",
       "      <th>property_type</th>\n",
       "      <th>locality</th>\n",
       "      <th>price</th>\n",
       "      <th>area</th>\n",
       "      <th>furnish_type</th>\n",
       "      <th>house_price</th>\n",
       "    </tr>\n",
       "  </thead>\n",
       "  <tbody>\n",
       "    <tr>\n",
       "      <th>0</th>\n",
       "      <td>2</td>\n",
       "      <td>Independent Floor</td>\n",
       "      <td>kamakshipalya</td>\n",
       "      <td>20000.0</td>\n",
       "      <td>1140</td>\n",
       "      <td>Semi-Furnished</td>\n",
       "      <td>8000000.0</td>\n",
       "    </tr>\n",
       "    <tr>\n",
       "      <th>1</th>\n",
       "      <td>2</td>\n",
       "      <td>Independent House</td>\n",
       "      <td>Kadugodi Industrial Area</td>\n",
       "      <td>8000.0</td>\n",
       "      <td>840</td>\n",
       "      <td>Semi-Furnished</td>\n",
       "      <td>3200000.0</td>\n",
       "    </tr>\n",
       "    <tr>\n",
       "      <th>2</th>\n",
       "      <td>2</td>\n",
       "      <td>Independent House</td>\n",
       "      <td>Koramangala</td>\n",
       "      <td>21000.0</td>\n",
       "      <td>1000</td>\n",
       "      <td>Semi-Furnished</td>\n",
       "      <td>8400000.0</td>\n",
       "    </tr>\n",
       "    <tr>\n",
       "      <th>3</th>\n",
       "      <td>1</td>\n",
       "      <td>Apartment</td>\n",
       "      <td>Sadduguntepalya</td>\n",
       "      <td>9000.0</td>\n",
       "      <td>550</td>\n",
       "      <td>Semi-Furnished</td>\n",
       "      <td>3600000.0</td>\n",
       "    </tr>\n",
       "    <tr>\n",
       "      <th>4</th>\n",
       "      <td>3</td>\n",
       "      <td>Apartment</td>\n",
       "      <td>Chandapura</td>\n",
       "      <td>17000.0</td>\n",
       "      <td>1230</td>\n",
       "      <td>Furnished</td>\n",
       "      <td>6800000.0</td>\n",
       "    </tr>\n",
       "  </tbody>\n",
       "</table>\n",
       "</div>"
      ],
      "text/plain": [
       "   bedroom      property_type                  locality    price  area  \\\n",
       "0        2  Independent Floor             kamakshipalya  20000.0  1140   \n",
       "1        2  Independent House  Kadugodi Industrial Area   8000.0   840   \n",
       "2        2  Independent House               Koramangala  21000.0  1000   \n",
       "3        1          Apartment           Sadduguntepalya   9000.0   550   \n",
       "4        3          Apartment                Chandapura  17000.0  1230   \n",
       "\n",
       "     furnish_type  house_price  \n",
       "0  Semi-Furnished    8000000.0  \n",
       "1  Semi-Furnished    3200000.0  \n",
       "2  Semi-Furnished    8400000.0  \n",
       "3  Semi-Furnished    3600000.0  \n",
       "4       Furnished    6800000.0  "
      ]
     },
     "execution_count": 12,
     "metadata": {},
     "output_type": "execute_result"
    }
   ],
   "source": [
    "df.head()"
   ]
  },
  {
   "cell_type": "code",
   "execution_count": 13,
   "id": "f12b92b1-6e94-45e8-be80-2b211a3469b7",
   "metadata": {},
   "outputs": [
    {
     "data": {
      "text/plain": [
       "bedroom\n",
       "2     10459\n",
       "1      7536\n",
       "3      4821\n",
       "4       605\n",
       "5        87\n",
       "6        15\n",
       "8         6\n",
       "7         5\n",
       "10        3\n",
       "15        3\n",
       "Name: count, dtype: int64"
      ]
     },
     "execution_count": 13,
     "metadata": {},
     "output_type": "execute_result"
    }
   ],
   "source": [
    "df.bedroom.value_counts()"
   ]
  },
  {
   "cell_type": "code",
   "execution_count": 14,
   "id": "54e711a2-cb9f-4d68-ae0e-cdf930339921",
   "metadata": {},
   "outputs": [],
   "source": [
    "df = df[df['bedroom'] <= 5]"
   ]
  },
  {
   "cell_type": "code",
   "execution_count": 15,
   "id": "9c3d11da-3649-452f-99bd-4d496486cf7d",
   "metadata": {},
   "outputs": [
    {
     "data": {
      "text/plain": [
       "property_type\n",
       "Apartment            12839\n",
       "Independent House     4803\n",
       "Independent Floor     4361\n",
       "Studio Apartment      1120\n",
       "Villa                  363\n",
       "Penthouse               22\n",
       "Name: count, dtype: int64"
      ]
     },
     "execution_count": 15,
     "metadata": {},
     "output_type": "execute_result"
    }
   ],
   "source": [
    "df.property_type.value_counts()"
   ]
  },
  {
   "cell_type": "code",
   "execution_count": 16,
   "id": "a4c24d65-8894-423d-a4ee-d7ab2854b342",
   "metadata": {},
   "outputs": [],
   "source": [
    "df[\"property_type\"] = df[\"property_type\"].replace(\"Studio Apartment\", \"Apartment\")\n",
    "df[\"property_type\"] = df[\"property_type\"].replace(\"Independent Floor\", \"Villa\")\n",
    "df[\"property_type\"] = df[\"property_type\"].replace(\"Penthouse\", \"Villa\")"
   ]
  },
  {
   "cell_type": "code",
   "execution_count": 17,
   "id": "5e067641-3b96-48b2-b312-92f95a99c33e",
   "metadata": {},
   "outputs": [
    {
     "data": {
      "text/html": [
       "<div>\n",
       "<style scoped>\n",
       "    .dataframe tbody tr th:only-of-type {\n",
       "        vertical-align: middle;\n",
       "    }\n",
       "\n",
       "    .dataframe tbody tr th {\n",
       "        vertical-align: top;\n",
       "    }\n",
       "\n",
       "    .dataframe thead th {\n",
       "        text-align: right;\n",
       "    }\n",
       "</style>\n",
       "<table border=\"1\" class=\"dataframe\">\n",
       "  <thead>\n",
       "    <tr style=\"text-align: right;\">\n",
       "      <th></th>\n",
       "      <th>bedroom</th>\n",
       "      <th>property_type</th>\n",
       "      <th>locality</th>\n",
       "      <th>price</th>\n",
       "      <th>area</th>\n",
       "      <th>furnish_type</th>\n",
       "      <th>house_price</th>\n",
       "    </tr>\n",
       "  </thead>\n",
       "  <tbody>\n",
       "    <tr>\n",
       "      <th>0</th>\n",
       "      <td>2</td>\n",
       "      <td>Villa</td>\n",
       "      <td>kamakshipalya</td>\n",
       "      <td>20000.0</td>\n",
       "      <td>1140</td>\n",
       "      <td>Semi-Furnished</td>\n",
       "      <td>8000000.0</td>\n",
       "    </tr>\n",
       "    <tr>\n",
       "      <th>1</th>\n",
       "      <td>2</td>\n",
       "      <td>Independent House</td>\n",
       "      <td>Kadugodi Industrial Area</td>\n",
       "      <td>8000.0</td>\n",
       "      <td>840</td>\n",
       "      <td>Semi-Furnished</td>\n",
       "      <td>3200000.0</td>\n",
       "    </tr>\n",
       "    <tr>\n",
       "      <th>2</th>\n",
       "      <td>2</td>\n",
       "      <td>Independent House</td>\n",
       "      <td>Koramangala</td>\n",
       "      <td>21000.0</td>\n",
       "      <td>1000</td>\n",
       "      <td>Semi-Furnished</td>\n",
       "      <td>8400000.0</td>\n",
       "    </tr>\n",
       "    <tr>\n",
       "      <th>3</th>\n",
       "      <td>1</td>\n",
       "      <td>Apartment</td>\n",
       "      <td>Sadduguntepalya</td>\n",
       "      <td>9000.0</td>\n",
       "      <td>550</td>\n",
       "      <td>Semi-Furnished</td>\n",
       "      <td>3600000.0</td>\n",
       "    </tr>\n",
       "    <tr>\n",
       "      <th>4</th>\n",
       "      <td>3</td>\n",
       "      <td>Apartment</td>\n",
       "      <td>Chandapura</td>\n",
       "      <td>17000.0</td>\n",
       "      <td>1230</td>\n",
       "      <td>Furnished</td>\n",
       "      <td>6800000.0</td>\n",
       "    </tr>\n",
       "  </tbody>\n",
       "</table>\n",
       "</div>"
      ],
      "text/plain": [
       "   bedroom      property_type                  locality    price  area  \\\n",
       "0        2              Villa             kamakshipalya  20000.0  1140   \n",
       "1        2  Independent House  Kadugodi Industrial Area   8000.0   840   \n",
       "2        2  Independent House               Koramangala  21000.0  1000   \n",
       "3        1          Apartment           Sadduguntepalya   9000.0   550   \n",
       "4        3          Apartment                Chandapura  17000.0  1230   \n",
       "\n",
       "     furnish_type  house_price  \n",
       "0  Semi-Furnished    8000000.0  \n",
       "1  Semi-Furnished    3200000.0  \n",
       "2  Semi-Furnished    8400000.0  \n",
       "3  Semi-Furnished    3600000.0  \n",
       "4       Furnished    6800000.0  "
      ]
     },
     "execution_count": 17,
     "metadata": {},
     "output_type": "execute_result"
    }
   ],
   "source": [
    "df.head()"
   ]
  },
  {
   "cell_type": "code",
   "execution_count": 18,
   "id": "4aa7f0a9-7822-4b6b-82ee-5ffc4a9cf9c4",
   "metadata": {},
   "outputs": [
    {
     "data": {
      "text/plain": [
       "count     879.000000\n",
       "mean       26.744027\n",
       "std        85.476684\n",
       "min         1.000000\n",
       "25%         1.000000\n",
       "50%         3.000000\n",
       "75%        14.000000\n",
       "max      1310.000000\n",
       "Name: count, dtype: float64"
      ]
     },
     "execution_count": 18,
     "metadata": {},
     "output_type": "execute_result"
    }
   ],
   "source": [
    "df.locality.value_counts().describe()"
   ]
  },
  {
   "cell_type": "code",
   "execution_count": 19,
   "id": "231abce0-8420-4781-9933-a7898636ffd7",
   "metadata": {},
   "outputs": [],
   "source": [
    "locality_counts = df[\"locality\"].value_counts()\n",
    "df = df[df[\"locality\"].isin(locality_counts[locality_counts >=10].index)]"
   ]
  },
  {
   "cell_type": "code",
   "execution_count": 20,
   "id": "73fe1213-42b4-42c7-9586-dd913a2ae6fe",
   "metadata": {},
   "outputs": [
    {
     "data": {
      "text/plain": [
       "258"
      ]
     },
     "execution_count": 20,
     "metadata": {},
     "output_type": "execute_result"
    }
   ],
   "source": [
    "df.locality.nunique()"
   ]
  },
  {
   "cell_type": "code",
   "execution_count": 21,
   "id": "c7ab6151-1e6b-42d4-8a62-ced9560e81dc",
   "metadata": {},
   "outputs": [
    {
     "data": {
      "text/plain": [
       "(21904, 7)"
      ]
     },
     "execution_count": 21,
     "metadata": {},
     "output_type": "execute_result"
    }
   ],
   "source": [
    "df.shape"
   ]
  },
  {
   "cell_type": "code",
   "execution_count": 22,
   "id": "ec8fd0e2-fccb-415e-a756-54620963b56d",
   "metadata": {},
   "outputs": [
    {
     "data": {
      "text/plain": [
       "furnish_type\n",
       "Semi-Furnished    18316\n",
       "Furnished          2251\n",
       "Unfurnished        1337\n",
       "Name: count, dtype: int64"
      ]
     },
     "execution_count": 22,
     "metadata": {},
     "output_type": "execute_result"
    }
   ],
   "source": [
    "df.furnish_type.value_counts()"
   ]
  },
  {
   "cell_type": "code",
   "execution_count": 23,
   "id": "40c401b1-0c59-4333-9884-5f7d8e498d2a",
   "metadata": {},
   "outputs": [],
   "source": [
    "df[\"furnish_type\"] = df[\"furnish_type\"].replace(\"Semi-Furnished\", \"Furnished\")"
   ]
  },
  {
   "cell_type": "code",
   "execution_count": 24,
   "id": "3f28eecf-4895-4f65-b57d-84627d48c130",
   "metadata": {},
   "outputs": [],
   "source": [
    "import matplotlib.pyplot as plt\n",
    "import seaborn as sns"
   ]
  },
  {
   "cell_type": "code",
   "execution_count": 25,
   "id": "a15a40f7-6014-4c23-a573-12b60625e3d6",
   "metadata": {},
   "outputs": [
    {
     "data": {
      "text/plain": [
       "<Figure size 1200x800 with 0 Axes>"
      ]
     },
     "metadata": {},
     "output_type": "display_data"
    },
    {
     "data": {
      "image/png": "[encoded data removed]",
      "text/plain": [
       "<Figure size 600x400 with 1 Axes>"
      ]
     },
     "metadata": {},
     "output_type": "display_data"
    },
    {
     "data": {
      "image/png": "[encoded data removed]",
      "text/plain": [
       "<Figure size 600x400 with 1 Axes>"
      ]
     },
     "metadata": {},
     "output_type": "display_data"
    },
    {
     "data": {
      "image/png": "[encoded data removed]",
      "text/plain": [
       "<Figure size 600x400 with 1 Axes>"
      ]
     },
     "metadata": {},
     "output_type": "display_data"
    },
    {
     "data": {
      "image/png": "[encoded data removed]",
      "text/plain": [
       "<Figure size 600x400 with 1 Axes>"
      ]
     },
     "metadata": {},
     "output_type": "display_data"
    }
   ],
   "source": [
    "plt.figure(figsize=(12, 8))\n",
    "sns.set(style=\"whitegrid\")\n",
    "\n",
    "df_numeric = df.select_dtypes(include=['float64', 'int64'])  \n",
    "for column in df_numeric.columns:\n",
    "    plt.figure(figsize=(6, 4))\n",
    "    sns.boxplot(x=df[column])\n",
    "    plt.title(f'Boxplot for {column}')\n",
    "    plt.show()"
   ]
  },
  {
   "cell_type": "code",
   "execution_count": 26,
   "id": "9e1e0400-b32d-47b5-88a5-4e898903617e",
   "metadata": {},
   "outputs": [],
   "source": [
    "for column in df_numeric.columns:\n",
    "    Q1 = df[column].quantile(0.25)\n",
    "    Q3 = df[column].quantile(0.75)\n",
    "    IQR = Q3 - Q1\n",
    "\n",
    "    lower_bound = Q1 - 1.5 * IQR\n",
    "    upper_bound = Q3 + 1.5 * IQR\n",
    "\n",
    "    df = df[(df[column] >= lower_bound) & (df[column] <= upper_bound)]"
   ]
  },
  {
   "cell_type": "code",
   "execution_count": 27,
   "id": "1cef1f11-ea7c-4bae-b7de-8e5e9df06d57",
   "metadata": {},
   "outputs": [
    {
     "data": {
      "text/plain": [
       "(20090, 7)"
      ]
     },
     "execution_count": 27,
     "metadata": {},
     "output_type": "execute_result"
    }
   ],
   "source": [
    "df.shape"
   ]
  },
  {
   "cell_type": "code",
   "execution_count": 28,
   "id": "6259382b-bfd6-452d-8f06-40f02d1e96d9",
   "metadata": {},
   "outputs": [],
   "source": [
    "df.drop(columns=['price'],inplace=True)"
   ]
  },
  {
   "cell_type": "code",
   "execution_count": 29,
   "id": "9a1555cf-a97b-4f78-a2af-f2473e02bd5d",
   "metadata": {},
   "outputs": [],
   "source": [
    "df.rename(columns={'house_price': 'price'}, inplace=True)"
   ]
  },
  {
   "cell_type": "code",
   "execution_count": 30,
   "id": "0ee47d0f-155f-4f03-bce9-d8df654f437c",
   "metadata": {},
   "outputs": [
    {
     "data": {
      "text/html": [
       "<div>\n",
       "<style scoped>\n",
       "    .dataframe tbody tr th:only-of-type {\n",
       "        vertical-align: middle;\n",
       "    }\n",
       "\n",
       "    .dataframe tbody tr th {\n",
       "        vertical-align: top;\n",
       "    }\n",
       "\n",
       "    .dataframe thead th {\n",
       "        text-align: right;\n",
       "    }\n",
       "</style>\n",
       "<table border=\"1\" class=\"dataframe\">\n",
       "  <thead>\n",
       "    <tr style=\"text-align: right;\">\n",
       "      <th></th>\n",
       "      <th>bedroom</th>\n",
       "      <th>property_type</th>\n",
       "      <th>locality</th>\n",
       "      <th>area</th>\n",
       "      <th>furnish_type</th>\n",
       "      <th>price</th>\n",
       "    </tr>\n",
       "  </thead>\n",
       "  <tbody>\n",
       "    <tr>\n",
       "      <th>1</th>\n",
       "      <td>2</td>\n",
       "      <td>Independent House</td>\n",
       "      <td>Kadugodi Industrial Area</td>\n",
       "      <td>840</td>\n",
       "      <td>Furnished</td>\n",
       "      <td>3200000.0</td>\n",
       "    </tr>\n",
       "    <tr>\n",
       "      <th>2</th>\n",
       "      <td>2</td>\n",
       "      <td>Independent House</td>\n",
       "      <td>Koramangala</td>\n",
       "      <td>1000</td>\n",
       "      <td>Furnished</td>\n",
       "      <td>8400000.0</td>\n",
       "    </tr>\n",
       "    <tr>\n",
       "      <th>3</th>\n",
       "      <td>1</td>\n",
       "      <td>Apartment</td>\n",
       "      <td>Sadduguntepalya</td>\n",
       "      <td>550</td>\n",
       "      <td>Furnished</td>\n",
       "      <td>3600000.0</td>\n",
       "    </tr>\n",
       "    <tr>\n",
       "      <th>4</th>\n",
       "      <td>3</td>\n",
       "      <td>Apartment</td>\n",
       "      <td>Chandapura</td>\n",
       "      <td>1230</td>\n",
       "      <td>Furnished</td>\n",
       "      <td>6800000.0</td>\n",
       "    </tr>\n",
       "    <tr>\n",
       "      <th>5</th>\n",
       "      <td>3</td>\n",
       "      <td>Apartment</td>\n",
       "      <td>Yelahanka New Town</td>\n",
       "      <td>1200</td>\n",
       "      <td>Furnished</td>\n",
       "      <td>5600000.0</td>\n",
       "    </tr>\n",
       "  </tbody>\n",
       "</table>\n",
       "</div>"
      ],
      "text/plain": [
       "   bedroom      property_type                  locality  area furnish_type  \\\n",
       "1        2  Independent House  Kadugodi Industrial Area   840    Furnished   \n",
       "2        2  Independent House               Koramangala  1000    Furnished   \n",
       "3        1          Apartment           Sadduguntepalya   550    Furnished   \n",
       "4        3          Apartment                Chandapura  1230    Furnished   \n",
       "5        3          Apartment        Yelahanka New Town  1200    Furnished   \n",
       "\n",
       "       price  \n",
       "1  3200000.0  \n",
       "2  8400000.0  \n",
       "3  3600000.0  \n",
       "4  6800000.0  \n",
       "5  5600000.0  "
      ]
     },
     "execution_count": 30,
     "metadata": {},
     "output_type": "execute_result"
    }
   ],
   "source": [
    "df.head()"
   ]
  },
  {
   "cell_type": "code",
   "execution_count": 31,
   "id": "74df883e-2af4-4a77-896c-6ef091500fb7",
   "metadata": {},
   "outputs": [],
   "source": [
    "df = pd.get_dummies(df).astype(int)"
   ]
  },
  {
   "cell_type": "code",
   "execution_count": 32,
   "id": "9a11b6cb-1089-422e-9e99-89d2b8cef1bc",
   "metadata": {},
   "outputs": [],
   "source": [
    "df['price'] = df['price'] / 100000"
   ]
  },
  {
   "cell_type": "code",
   "execution_count": 33,
   "id": "e9dbd981-02fd-4dd8-be2a-9ab7629e8127",
   "metadata": {},
   "outputs": [
    {
     "data": {
      "text/html": [
       "<div>\n",
       "<style scoped>\n",
       "    .dataframe tbody tr th:only-of-type {\n",
       "        vertical-align: middle;\n",
       "    }\n",
       "\n",
       "    .dataframe tbody tr th {\n",
       "        vertical-align: top;\n",
       "    }\n",
       "\n",
       "    .dataframe thead th {\n",
       "        text-align: right;\n",
       "    }\n",
       "</style>\n",
       "<table border=\"1\" class=\"dataframe\">\n",
       "  <thead>\n",
       "    <tr style=\"text-align: right;\">\n",
       "      <th></th>\n",
       "      <th>bedroom</th>\n",
       "      <th>area</th>\n",
       "      <th>price</th>\n",
       "      <th>property_type_Apartment</th>\n",
       "      <th>property_type_Independent House</th>\n",
       "      <th>property_type_Villa</th>\n",
       "      <th>locality_25th B Main Rd</th>\n",
       "      <th>locality_2nd Phase</th>\n",
       "      <th>locality_5th Phase</th>\n",
       "      <th>locality_7th Cross</th>\n",
       "      <th>...</th>\n",
       "      <th>locality_Yelahanka New Town</th>\n",
       "      <th>locality_Yelahanka Satellite Town</th>\n",
       "      <th>locality_Yemalur</th>\n",
       "      <th>locality_Yeshwanthpur</th>\n",
       "      <th>locality_Yeshwantpur</th>\n",
       "      <th>locality_byatarayanapura</th>\n",
       "      <th>locality_hebbal kempapura</th>\n",
       "      <th>locality_hongasandra bangalore</th>\n",
       "      <th>furnish_type_Furnished</th>\n",
       "      <th>furnish_type_Unfurnished</th>\n",
       "    </tr>\n",
       "  </thead>\n",
       "  <tbody>\n",
       "    <tr>\n",
       "      <th>1</th>\n",
       "      <td>2</td>\n",
       "      <td>840</td>\n",
       "      <td>32.0</td>\n",
       "      <td>0</td>\n",
       "      <td>1</td>\n",
       "      <td>0</td>\n",
       "      <td>0</td>\n",
       "      <td>0</td>\n",
       "      <td>0</td>\n",
       "      <td>0</td>\n",
       "      <td>...</td>\n",
       "      <td>0</td>\n",
       "      <td>0</td>\n",
       "      <td>0</td>\n",
       "      <td>0</td>\n",
       "      <td>0</td>\n",
       "      <td>0</td>\n",
       "      <td>0</td>\n",
       "      <td>0</td>\n",
       "      <td>1</td>\n",
       "      <td>0</td>\n",
       "    </tr>\n",
       "    <tr>\n",
       "      <th>2</th>\n",
       "      <td>2</td>\n",
       "      <td>1000</td>\n",
       "      <td>84.0</td>\n",
       "      <td>0</td>\n",
       "      <td>1</td>\n",
       "      <td>0</td>\n",
       "      <td>0</td>\n",
       "      <td>0</td>\n",
       "      <td>0</td>\n",
       "      <td>0</td>\n",
       "      <td>...</td>\n",
       "      <td>0</td>\n",
       "      <td>0</td>\n",
       "      <td>0</td>\n",
       "      <td>0</td>\n",
       "      <td>0</td>\n",
       "      <td>0</td>\n",
       "      <td>0</td>\n",
       "      <td>0</td>\n",
       "      <td>1</td>\n",
       "      <td>0</td>\n",
       "    </tr>\n",
       "    <tr>\n",
       "      <th>3</th>\n",
       "      <td>1</td>\n",
       "      <td>550</td>\n",
       "      <td>36.0</td>\n",
       "      <td>1</td>\n",
       "      <td>0</td>\n",
       "      <td>0</td>\n",
       "      <td>0</td>\n",
       "      <td>0</td>\n",
       "      <td>0</td>\n",
       "      <td>0</td>\n",
       "      <td>...</td>\n",
       "      <td>0</td>\n",
       "      <td>0</td>\n",
       "      <td>0</td>\n",
       "      <td>0</td>\n",
       "      <td>0</td>\n",
       "      <td>0</td>\n",
       "      <td>0</td>\n",
       "      <td>0</td>\n",
       "      <td>1</td>\n",
       "      <td>0</td>\n",
       "    </tr>\n",
       "    <tr>\n",
       "      <th>4</th>\n",
       "      <td>3</td>\n",
       "      <td>1230</td>\n",
       "      <td>68.0</td>\n",
       "      <td>1</td>\n",
       "      <td>0</td>\n",
       "      <td>0</td>\n",
       "      <td>0</td>\n",
       "      <td>0</td>\n",
       "      <td>0</td>\n",
       "      <td>0</td>\n",
       "      <td>...</td>\n",
       "      <td>0</td>\n",
       "      <td>0</td>\n",
       "      <td>0</td>\n",
       "      <td>0</td>\n",
       "      <td>0</td>\n",
       "      <td>0</td>\n",
       "      <td>0</td>\n",
       "      <td>0</td>\n",
       "      <td>1</td>\n",
       "      <td>0</td>\n",
       "    </tr>\n",
       "    <tr>\n",
       "      <th>5</th>\n",
       "      <td>3</td>\n",
       "      <td>1200</td>\n",
       "      <td>56.0</td>\n",
       "      <td>1</td>\n",
       "      <td>0</td>\n",
       "      <td>0</td>\n",
       "      <td>0</td>\n",
       "      <td>0</td>\n",
       "      <td>0</td>\n",
       "      <td>0</td>\n",
       "      <td>...</td>\n",
       "      <td>1</td>\n",
       "      <td>0</td>\n",
       "      <td>0</td>\n",
       "      <td>0</td>\n",
       "      <td>0</td>\n",
       "      <td>0</td>\n",
       "      <td>0</td>\n",
       "      <td>0</td>\n",
       "      <td>1</td>\n",
       "      <td>0</td>\n",
       "    </tr>\n",
       "  </tbody>\n",
       "</table>\n",
       "<p>5 rows × 266 columns</p>\n",
       "</div>"
      ],
      "text/plain": [
       "   bedroom  area  price  property_type_Apartment  \\\n",
       "1        2   840   32.0                        0   \n",
       "2        2  1000   84.0                        0   \n",
       "3        1   550   36.0                        1   \n",
       "4        3  1230   68.0                        1   \n",
       "5        3  1200   56.0                        1   \n",
       "\n",
       "   property_type_Independent House  property_type_Villa  \\\n",
       "1                                1                    0   \n",
       "2                                1                    0   \n",
       "3                                0                    0   \n",
       "4                                0                    0   \n",
       "5                                0                    0   \n",
       "\n",
       "   locality_25th B Main Rd  locality_2nd Phase  locality_5th Phase  \\\n",
       "1                        0                   0                   0   \n",
       "2                        0                   0                   0   \n",
       "3                        0                   0                   0   \n",
       "4                        0                   0                   0   \n",
       "5                        0                   0                   0   \n",
       "\n",
       "   locality_7th Cross  ...  locality_Yelahanka New Town  \\\n",
       "1                   0  ...                            0   \n",
       "2                   0  ...                            0   \n",
       "3                   0  ...                            0   \n",
       "4                   0  ...                            0   \n",
       "5                   0  ...                            1   \n",
       "\n",
       "   locality_Yelahanka Satellite Town  locality_Yemalur  locality_Yeshwanthpur  \\\n",
       "1                                  0                 0                      0   \n",
       "2                                  0                 0                      0   \n",
       "3                                  0                 0                      0   \n",
       "4                                  0                 0                      0   \n",
       "5                                  0                 0                      0   \n",
       "\n",
       "   locality_Yeshwantpur  locality_byatarayanapura  locality_hebbal kempapura  \\\n",
       "1                     0                         0                          0   \n",
       "2                     0                         0                          0   \n",
       "3                     0                         0                          0   \n",
       "4                     0                         0                          0   \n",
       "5                     0                         0                          0   \n",
       "\n",
       "   locality_hongasandra bangalore  furnish_type_Furnished  \\\n",
       "1                               0                       1   \n",
       "2                               0                       1   \n",
       "3                               0                       1   \n",
       "4                               0                       1   \n",
       "5                               0                       1   \n",
       "\n",
       "   furnish_type_Unfurnished  \n",
       "1                         0  \n",
       "2                         0  \n",
       "3                         0  \n",
       "4                         0  \n",
       "5                         0  \n",
       "\n",
       "[5 rows x 266 columns]"
      ]
     },
     "execution_count": 33,
     "metadata": {},
     "output_type": "execute_result"
    }
   ],
   "source": [
    "df.head()"
   ]
  },
  {
   "cell_type": "code",
   "execution_count": 34,
   "id": "40f0562d-de85-4e1e-8899-50fc97736925",
   "metadata": {},
   "outputs": [
    {
     "data": {
      "text/plain": [
       "(20090, 266)"
      ]
     },
     "execution_count": 34,
     "metadata": {},
     "output_type": "execute_result"
    }
   ],
   "source": [
    "df.shape"
   ]
  },
  {
   "cell_type": "code",
   "execution_count": 35,
   "id": "fcb3143b-00db-45c9-9660-0fae129ded29",
   "metadata": {},
   "outputs": [
    {
     "data": {
      "text/html": [
       "<div>\n",
       "<style scoped>\n",
       "    .dataframe tbody tr th:only-of-type {\n",
       "        vertical-align: middle;\n",
       "    }\n",
       "\n",
       "    .dataframe tbody tr th {\n",
       "        vertical-align: top;\n",
       "    }\n",
       "\n",
       "    .dataframe thead th {\n",
       "        text-align: right;\n",
       "    }\n",
       "</style>\n",
       "<table border=\"1\" class=\"dataframe\">\n",
       "  <thead>\n",
       "    <tr style=\"text-align: right;\">\n",
       "      <th></th>\n",
       "      <th>bedroom</th>\n",
       "      <th>area</th>\n",
       "      <th>price</th>\n",
       "      <th>property_type_Apartment</th>\n",
       "      <th>property_type_Independent House</th>\n",
       "      <th>property_type_Villa</th>\n",
       "      <th>locality_25th B Main Rd</th>\n",
       "      <th>locality_2nd Phase</th>\n",
       "      <th>locality_5th Phase</th>\n",
       "      <th>locality_7th Cross</th>\n",
       "      <th>...</th>\n",
       "      <th>locality_Yelahanka New Town</th>\n",
       "      <th>locality_Yelahanka Satellite Town</th>\n",
       "      <th>locality_Yemalur</th>\n",
       "      <th>locality_Yeshwanthpur</th>\n",
       "      <th>locality_Yeshwantpur</th>\n",
       "      <th>locality_byatarayanapura</th>\n",
       "      <th>locality_hebbal kempapura</th>\n",
       "      <th>locality_hongasandra bangalore</th>\n",
       "      <th>furnish_type_Furnished</th>\n",
       "      <th>furnish_type_Unfurnished</th>\n",
       "    </tr>\n",
       "  </thead>\n",
       "  <tbody>\n",
       "    <tr>\n",
       "      <th>1</th>\n",
       "      <td>2</td>\n",
       "      <td>840</td>\n",
       "      <td>32.0</td>\n",
       "      <td>0</td>\n",
       "      <td>1</td>\n",
       "      <td>0</td>\n",
       "      <td>0</td>\n",
       "      <td>0</td>\n",
       "      <td>0</td>\n",
       "      <td>0</td>\n",
       "      <td>...</td>\n",
       "      <td>0</td>\n",
       "      <td>0</td>\n",
       "      <td>0</td>\n",
       "      <td>0</td>\n",
       "      <td>0</td>\n",
       "      <td>0</td>\n",
       "      <td>0</td>\n",
       "      <td>0</td>\n",
       "      <td>1</td>\n",
       "      <td>0</td>\n",
       "    </tr>\n",
       "    <tr>\n",
       "      <th>2</th>\n",
       "      <td>2</td>\n",
       "      <td>1000</td>\n",
       "      <td>84.0</td>\n",
       "      <td>0</td>\n",
       "      <td>1</td>\n",
       "      <td>0</td>\n",
       "      <td>0</td>\n",
       "      <td>0</td>\n",
       "      <td>0</td>\n",
       "      <td>0</td>\n",
       "      <td>...</td>\n",
       "      <td>0</td>\n",
       "      <td>0</td>\n",
       "      <td>0</td>\n",
       "      <td>0</td>\n",
       "      <td>0</td>\n",
       "      <td>0</td>\n",
       "      <td>0</td>\n",
       "      <td>0</td>\n",
       "      <td>1</td>\n",
       "      <td>0</td>\n",
       "    </tr>\n",
       "    <tr>\n",
       "      <th>3</th>\n",
       "      <td>1</td>\n",
       "      <td>550</td>\n",
       "      <td>36.0</td>\n",
       "      <td>1</td>\n",
       "      <td>0</td>\n",
       "      <td>0</td>\n",
       "      <td>0</td>\n",
       "      <td>0</td>\n",
       "      <td>0</td>\n",
       "      <td>0</td>\n",
       "      <td>...</td>\n",
       "      <td>0</td>\n",
       "      <td>0</td>\n",
       "      <td>0</td>\n",
       "      <td>0</td>\n",
       "      <td>0</td>\n",
       "      <td>0</td>\n",
       "      <td>0</td>\n",
       "      <td>0</td>\n",
       "      <td>1</td>\n",
       "      <td>0</td>\n",
       "    </tr>\n",
       "    <tr>\n",
       "      <th>4</th>\n",
       "      <td>3</td>\n",
       "      <td>1230</td>\n",
       "      <td>68.0</td>\n",
       "      <td>1</td>\n",
       "      <td>0</td>\n",
       "      <td>0</td>\n",
       "      <td>0</td>\n",
       "      <td>0</td>\n",
       "      <td>0</td>\n",
       "      <td>0</td>\n",
       "      <td>...</td>\n",
       "      <td>0</td>\n",
       "      <td>0</td>\n",
       "      <td>0</td>\n",
       "      <td>0</td>\n",
       "      <td>0</td>\n",
       "      <td>0</td>\n",
       "      <td>0</td>\n",
       "      <td>0</td>\n",
       "      <td>1</td>\n",
       "      <td>0</td>\n",
       "    </tr>\n",
       "    <tr>\n",
       "      <th>5</th>\n",
       "      <td>3</td>\n",
       "      <td>1200</td>\n",
       "      <td>56.0</td>\n",
       "      <td>1</td>\n",
       "      <td>0</td>\n",
       "      <td>0</td>\n",
       "      <td>0</td>\n",
       "      <td>0</td>\n",
       "      <td>0</td>\n",
       "      <td>0</td>\n",
       "      <td>...</td>\n",
       "      <td>1</td>\n",
       "      <td>0</td>\n",
       "      <td>0</td>\n",
       "      <td>0</td>\n",
       "      <td>0</td>\n",
       "      <td>0</td>\n",
       "      <td>0</td>\n",
       "      <td>0</td>\n",
       "      <td>1</td>\n",
       "      <td>0</td>\n",
       "    </tr>\n",
       "  </tbody>\n",
       "</table>\n",
       "<p>5 rows × 266 columns</p>\n",
       "</div>"
      ],
      "text/plain": [
       "   bedroom  area  price  property_type_Apartment  \\\n",
       "1        2   840   32.0                        0   \n",
       "2        2  1000   84.0                        0   \n",
       "3        1   550   36.0                        1   \n",
       "4        3  1230   68.0                        1   \n",
       "5        3  1200   56.0                        1   \n",
       "\n",
       "   property_type_Independent House  property_type_Villa  \\\n",
       "1                                1                    0   \n",
       "2                                1                    0   \n",
       "3                                0                    0   \n",
       "4                                0                    0   \n",
       "5                                0                    0   \n",
       "\n",
       "   locality_25th B Main Rd  locality_2nd Phase  locality_5th Phase  \\\n",
       "1                        0                   0                   0   \n",
       "2                        0                   0                   0   \n",
       "3                        0                   0                   0   \n",
       "4                        0                   0                   0   \n",
       "5                        0                   0                   0   \n",
       "\n",
       "   locality_7th Cross  ...  locality_Yelahanka New Town  \\\n",
       "1                   0  ...                            0   \n",
       "2                   0  ...                            0   \n",
       "3                   0  ...                            0   \n",
       "4                   0  ...                            0   \n",
       "5                   0  ...                            1   \n",
       "\n",
       "   locality_Yelahanka Satellite Town  locality_Yemalur  locality_Yeshwanthpur  \\\n",
       "1                                  0                 0                      0   \n",
       "2                                  0                 0                      0   \n",
       "3                                  0                 0                      0   \n",
       "4                                  0                 0                      0   \n",
       "5                                  0                 0                      0   \n",
       "\n",
       "   locality_Yeshwantpur  locality_byatarayanapura  locality_hebbal kempapura  \\\n",
       "1                     0                         0                          0   \n",
       "2                     0                         0                          0   \n",
       "3                     0                         0                          0   \n",
       "4                     0                         0                          0   \n",
       "5                     0                         0                          0   \n",
       "\n",
       "   locality_hongasandra bangalore  furnish_type_Furnished  \\\n",
       "1                               0                       1   \n",
       "2                               0                       1   \n",
       "3                               0                       1   \n",
       "4                               0                       1   \n",
       "5                               0                       1   \n",
       "\n",
       "   furnish_type_Unfurnished  \n",
       "1                         0  \n",
       "2                         0  \n",
       "3                         0  \n",
       "4                         0  \n",
       "5                         0  \n",
       "\n",
       "[5 rows x 266 columns]"
      ]
     },
     "execution_count": 35,
     "metadata": {},
     "output_type": "execute_result"
    }
   ],
   "source": [
    "df.head()"
   ]
  },
  {
   "cell_type": "code",
   "execution_count": 36,
   "id": "e0057584-1b79-4530-9edf-b2f962b3c22a",
   "metadata": {},
   "outputs": [],
   "source": [
    "target=df.price\n",
    "df.drop(columns=['price'],inplace=True)"
   ]
  },
  {
   "cell_type": "code",
   "execution_count": 37,
   "id": "944d11cd-6269-4832-a897-b4d3fe72f8c0",
   "metadata": {},
   "outputs": [],
   "source": [
    "from sklearn.model_selection import train_test_split\n",
    "X_train, X_test, y_train, y_test = train_test_split(df,target,test_size=0.2,random_state=10)"
   ]
  },
  {
   "cell_type": "code",
   "execution_count": 38,
   "id": "0e5cf1af-a8c1-4053-8e16-e77407e35927",
   "metadata": {},
   "outputs": [
    {
     "data": {
      "text/plain": [
       "-1282910254608.5894"
      ]
     },
     "execution_count": 38,
     "metadata": {},
     "output_type": "execute_result"
    }
   ],
   "source": [
    "from sklearn.linear_model import LinearRegression\n",
    "lr_clf = LinearRegression()\n",
    "lr_clf.fit(X_train,y_train)\n",
    "lr_clf.score(X_test,y_test)"
   ]
  },
  {
   "cell_type": "code",
   "execution_count": 39,
   "id": "7b166460-0c6e-4987-a768-1d9f82c26c60",
   "metadata": {},
   "outputs": [
    {
     "data": {
      "text/plain": [
       "array([0.70698927, 0.70456623, 0.70805664, 0.71322504, 0.72158021])"
      ]
     },
     "execution_count": 39,
     "metadata": {},
     "output_type": "execute_result"
    }
   ],
   "source": [
    "from sklearn.model_selection import ShuffleSplit\n",
    "from sklearn.model_selection import cross_val_score\n",
    "\n",
    "cv = ShuffleSplit(n_splits=5, test_size=0.2, random_state=0)\n",
    "\n",
    "cross_val_score(LinearRegression(), df,target, cv=cv)"
   ]
  },
  {
   "cell_type": "code",
   "execution_count": 40,
   "id": "865efe84-dcd4-4f78-b8ef-d1f20acf1452",
   "metadata": {},
   "outputs": [
    {
     "data": {
      "text/html": [
       "<div>\n",
       "<style scoped>\n",
       "    .dataframe tbody tr th:only-of-type {\n",
       "        vertical-align: middle;\n",
       "    }\n",
       "\n",
       "    .dataframe tbody tr th {\n",
       "        vertical-align: top;\n",
       "    }\n",
       "\n",
       "    .dataframe thead th {\n",
       "        text-align: right;\n",
       "    }\n",
       "</style>\n",
       "<table border=\"1\" class=\"dataframe\">\n",
       "  <thead>\n",
       "    <tr style=\"text-align: right;\">\n",
       "      <th></th>\n",
       "      <th>model</th>\n",
       "      <th>best_score</th>\n",
       "      <th>best_params</th>\n",
       "    </tr>\n",
       "  </thead>\n",
       "  <tbody>\n",
       "    <tr>\n",
       "      <th>0</th>\n",
       "      <td>linear_regression</td>\n",
       "      <td>0.710883</td>\n",
       "      <td>{'fit_intercept': False}</td>\n",
       "    </tr>\n",
       "    <tr>\n",
       "      <th>1</th>\n",
       "      <td>lasso</td>\n",
       "      <td>0.641218</td>\n",
       "      <td>{'alpha': 0.1, 'selection': 'cyclic'}</td>\n",
       "    </tr>\n",
       "    <tr>\n",
       "      <th>2</th>\n",
       "      <td>decision_tree</td>\n",
       "      <td>0.776967</td>\n",
       "      <td>{'criterion': 'friedman_mse', 'splitter': 'ran...</td>\n",
       "    </tr>\n",
       "  </tbody>\n",
       "</table>\n",
       "</div>"
      ],
      "text/plain": [
       "               model  best_score  \\\n",
       "0  linear_regression    0.710883   \n",
       "1              lasso    0.641218   \n",
       "2      decision_tree    0.776967   \n",
       "\n",
       "                                         best_params  \n",
       "0                           {'fit_intercept': False}  \n",
       "1              {'alpha': 0.1, 'selection': 'cyclic'}  \n",
       "2  {'criterion': 'friedman_mse', 'splitter': 'ran...  "
      ]
     },
     "execution_count": 40,
     "metadata": {},
     "output_type": "execute_result"
    }
   ],
   "source": [
    "from sklearn.model_selection import GridSearchCV, ShuffleSplit\n",
    "from sklearn.linear_model import LinearRegression, Lasso\n",
    "from sklearn.tree import DecisionTreeRegressor\n",
    "\n",
    "def find_best_model_using_gridsearchcv(X, y):\n",
    "    algos = {\n",
    "        'linear_regression': {\n",
    "            'model': LinearRegression(),\n",
    "            'params': {\n",
    "                'fit_intercept': [True, False]\n",
    "            }\n",
    "        },\n",
    "        'lasso': {\n",
    "            'model': Lasso(),\n",
    "            'params': {\n",
    "                'alpha': [0.1, 1, 10],\n",
    "                'selection': ['random', 'cyclic']\n",
    "            }\n",
    "        },\n",
    "        'decision_tree': {\n",
    "            'model': DecisionTreeRegressor(),\n",
    "            'params': {\n",
    "                'criterion': ['squared_error', 'friedman_mse'],\n",
    "                'splitter': ['best', 'random']\n",
    "            }\n",
    "        }\n",
    "    }\n",
    "    \n",
    "    scores = []\n",
    "    cv = ShuffleSplit(n_splits=5, test_size=0.2, random_state=0)\n",
    "    \n",
    "    for algo_name, config in algos.items():\n",
    "        gs = GridSearchCV(config['model'], config['params'], cv=cv, return_train_score=False)\n",
    "        gs.fit(X, y)\n",
    "        scores.append({\n",
    "            'model': algo_name,\n",
    "            'best_score': gs.best_score_,\n",
    "            'best_params': gs.best_params_\n",
    "        })\n",
    "\n",
    "    return pd.DataFrame(scores, columns=['model', 'best_score', 'best_params'])\n",
    "find_best_model_using_gridsearchcv(df,target)"
   ]
  },
  {
   "cell_type": "code",
   "execution_count": 46,
   "id": "40309d2a-9f8d-4287-ad21-3705a25798b8",
   "metadata": {},
   "outputs": [
    {
     "data": {
      "text/plain": [
       "0.9311867405023107"
      ]
     },
     "execution_count": 46,
     "metadata": {},
     "output_type": "execute_result"
    }
   ],
   "source": [
    "model=DecisionTreeRegressor(criterion= 'friedman_mse',splitter='random')\n",
    "model.fit(df,target)\n",
    "model.score(X_test, y_test)"
   ]
  },
  {
   "cell_type": "code",
   "execution_count": 48,
   "id": "df3c2d01-f2b6-4360-9337-72c6c5208348",
   "metadata": {},
   "outputs": [],
   "source": [
    "import pickle\n",
    "with open('Bangalore_model.pickle','wb') as f:\n",
    "    pickle.dump(model,f)"
   ]
  },
  {
   "cell_type": "code",
   "execution_count": 50,
   "id": "b677d947-aa4d-437a-a03d-f400b3ad93c4",
   "metadata": {},
   "outputs": [],
   "source": [
    "import json\n",
    "columns = {\n",
    "    'data_columns' : [col.lower() for col in df.columns]\n",
    "}\n",
    "with open(\"Bangalore_columns.json\",\"w\") as f:\n",
    "    f.write(json.dumps(columns))"
   ]
  },
  {
   "cell_type": "code",
   "execution_count": null,
   "id": "5156ee29-7b72-45f0-9f6f-f1058782b0be",
   "metadata": {},
   "outputs": [],
   "source": []
  }
 ],
 "metadata": {
  "kernelspec": {
   "display_name": "Python 3 (ipykernel)",
   "language": "python",
   "name": "python3"
  },
  "language_info": {
   "codemirror_mode": {
    "name": "ipython",
    "version": 3
   },
   "file_extension": ".py",
   "mimetype": "text/x-python",
   "name": "python",
   "nbconvert_exporter": "python",
   "pygments_lexer": "ipython3",
   "version": "3.12.7"
  }
 },
 "nbformat": 4,
 "nbformat_minor": 5
}
